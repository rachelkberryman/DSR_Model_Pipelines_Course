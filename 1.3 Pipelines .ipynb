{
 "cells": [
  {
   "cell_type": "markdown",
   "metadata": {},
   "source": [
    "1.3: Pipelines\n",
    "================\n",
    "### Stringing it All Together\n",
    "_____________________\n",
    "\n",
    "**Pipelines** has a few different meanings in Data Science.\n",
    "\n",
    "This creates some ambiguity as the terms are often used interchangably.\n",
    "\n",
    "There's [Spark Pipelines](https://spark.apache.org/docs/2.2.0/ml-pipeline.html), used to process data in PySpark. \n",
    "\n",
    "Then there's the overarching idea of the Data Science Pipeline: a concept in business that describes the general process for going from raw data to something that creates value for the business, as this [example](https://www.ibm.com/developerworks/library/ba-intro-data-science-1/index.html) from IBM illustrates.\n",
    "\n",
    "Then, there is the scikit-learn Pipeline tool. This can be described as a simple way, using scikit-learn, to work through the beginning/middle steps of the Data Science Pipeline. **In scikit-learn, a Pipeline is a string of transforms with a final estimator.** All of these steps in the pipeline (transformers and estimators) can be user-defined or from scikit-learn.\n",
    "\n",
    "**You can make user-defined pipeline steps by inheriting from the TransformerMixin and BaseEstimator parent classes**. If you inherit from these and write your transformer or estimator properly, they will work together in the pipeline seamlessly!\n",
    "\n"
   ]
  },
  {
   "cell_type": "markdown",
   "metadata": {
    "collapsed": true
   },
   "source": [
    "Scikit-learn pipelines to the rescue\n",
    "-------------\n",
    "\n",
    "Fortunately scikit-learn provides a set of helpful functions to deal with pipelines.\n",
    "2 of them are the most important:\n",
    "\n",
    "1. `sklearn.pipeline.make_pipeline`\n",
    "\n",
    "    In our previous example we could define our transformer like this\n",
    "    \n",
    "```python\n",
    "adder_normalizer = make_pipeline(\n",
    "    AdderTransformer(add=10),\n",
    "    MeanNormalizer()\n",
    ")\n",
    "```\n",
    "Calling `fit` on the pipeline is the same as calling fit on each estimator in turn, transform the input and pass it on to the next step. The pipeline has all the methods that the last estimator in the pipeline has, i.e. if the last estimator is a classifier, the Pipeline can be used as a classifier. If the last estimator is a transformer, again, so is the pipeline.\n",
    "\n",
    "2. `sklearn.pipeline.make_union`\n",
    "\n",
    "    Creates a union of transformers\n",
    "    \n",
    "    ```\n",
    "    \n",
    "             transformer 1\n",
    "           /               \\\n",
    "          /                 \\\n",
    "    input                     output\n",
    "          \\                 /    \n",
    "           \\               /\n",
    "             transformer 2\n",
    "             \n",
    "    ```\n",
    "             \n",
    "    It is useful when the dataset consists of several types of data that one must \n",
    "    deal with separately.\n",
    "\n",
    "\n",
    "Alternative way to define pipelines\n",
    "--------------\n",
    "\n",
    "```python\n",
    "from sklearn.pipeline import Pipeline\n",
    "\n",
    "adder_normalizer = Pipeline([\n",
    "    ('adder', AdderTransformer(add=10)),\n",
    "    ('normalizer', MeanNormalizer()),    \n",
    "])\n",
    "\n",
    "print(adder_normalizer)\n",
    "\n",
    ">> Pipeline(steps=[('adder', <__main__.AdderTransformer object at 0x7f9387473750>), ('normalizer', <__main__.MeanNormalizer object at 0x7f9387137e50>)])\n",
    "```\n",
    "\n"
   ]
  },
  {
   "cell_type": "markdown",
   "metadata": {},
   "source": [
    "## Examples with real data: Predicting Absenteeism at Work\n",
    "Here, we will take a real data set, and follow first the exploratory phase, then make it into a pipeline."
   ]
  },
  {
   "cell_type": "code",
   "execution_count": 1,
   "metadata": {
    "scrolled": false
   },
   "outputs": [
    {
     "name": "stdout",
     "output_type": "stream",
     "text": [
      "ID                                   int64\n",
      "Reason for absence                  object\n",
      "Month of absence                     int64\n",
      "Day of the week                     object\n",
      "Distance from Residence to Work      int64\n",
      "Service time                         int64\n",
      "Age                                  int64\n",
      "Work load Average/day              float64\n",
      "Hit target                           int64\n",
      "Disciplinary failure                 int64\n",
      "Education                           object\n",
      "Number of Children                   int64\n",
      "Social drinker                       int64\n",
      "Social smoker                        int64\n",
      "Pet                                  int64\n",
      "Weight                               int64\n",
      "Height                               int64\n",
      "Body mass index                      int64\n",
      "Absenteeism time in hours            int64\n",
      "dtype: object\n",
      "\n",
      "Summary Statistics for Target Variable: \n",
      " count    749.000000\n",
      "mean       8.080107\n",
      "std       17.001698\n",
      "min        0.000000\n",
      "25%        2.000000\n",
      "50%        3.000000\n",
      "75%        8.000000\n",
      "max      120.000000\n",
      "Name: Absenteeism time in hours, dtype: float64\n"
     ]
    },
    {
     "data": {
      "text/html": [
       "<div>\n",
       "<style scoped>\n",
       "    .dataframe tbody tr th:only-of-type {\n",
       "        vertical-align: middle;\n",
       "    }\n",
       "\n",
       "    .dataframe tbody tr th {\n",
       "        vertical-align: top;\n",
       "    }\n",
       "\n",
       "    .dataframe thead th {\n",
       "        text-align: right;\n",
       "    }\n",
       "</style>\n",
       "<table border=\"1\" class=\"dataframe\">\n",
       "  <thead>\n",
       "    <tr style=\"text-align: right;\">\n",
       "      <th></th>\n",
       "      <th>ID</th>\n",
       "      <th>Reason for absence</th>\n",
       "      <th>Month of absence</th>\n",
       "      <th>Day of the week</th>\n",
       "      <th>Distance from Residence to Work</th>\n",
       "      <th>Service time</th>\n",
       "      <th>Age</th>\n",
       "      <th>Work load Average/day</th>\n",
       "      <th>Hit target</th>\n",
       "      <th>Disciplinary failure</th>\n",
       "      <th>Education</th>\n",
       "      <th>Number of Children</th>\n",
       "      <th>Social drinker</th>\n",
       "      <th>Social smoker</th>\n",
       "      <th>Pet</th>\n",
       "      <th>Weight</th>\n",
       "      <th>Height</th>\n",
       "      <th>Body mass index</th>\n",
       "      <th>Absenteeism time in hours</th>\n",
       "    </tr>\n",
       "  </thead>\n",
       "  <tbody>\n",
       "    <tr>\n",
       "      <th>0</th>\n",
       "      <td>11</td>\n",
       "      <td>Patient follow-up</td>\n",
       "      <td>7</td>\n",
       "      <td>Tuesday</td>\n",
       "      <td>36</td>\n",
       "      <td>13</td>\n",
       "      <td>33</td>\n",
       "      <td>239.554</td>\n",
       "      <td>97</td>\n",
       "      <td>0</td>\n",
       "      <td>High school</td>\n",
       "      <td>2</td>\n",
       "      <td>1</td>\n",
       "      <td>0</td>\n",
       "      <td>1</td>\n",
       "      <td>90</td>\n",
       "      <td>172</td>\n",
       "      <td>30</td>\n",
       "      <td>4</td>\n",
       "    </tr>\n",
       "    <tr>\n",
       "      <th>1</th>\n",
       "      <td>36</td>\n",
       "      <td>No reason given</td>\n",
       "      <td>7</td>\n",
       "      <td>Tuesday</td>\n",
       "      <td>13</td>\n",
       "      <td>18</td>\n",
       "      <td>50</td>\n",
       "      <td>239.554</td>\n",
       "      <td>97</td>\n",
       "      <td>1</td>\n",
       "      <td>High school</td>\n",
       "      <td>1</td>\n",
       "      <td>1</td>\n",
       "      <td>0</td>\n",
       "      <td>0</td>\n",
       "      <td>98</td>\n",
       "      <td>178</td>\n",
       "      <td>31</td>\n",
       "      <td>0</td>\n",
       "    </tr>\n",
       "    <tr>\n",
       "      <th>2</th>\n",
       "      <td>3</td>\n",
       "      <td>Blood donation</td>\n",
       "      <td>7</td>\n",
       "      <td>Wednesday</td>\n",
       "      <td>51</td>\n",
       "      <td>18</td>\n",
       "      <td>38</td>\n",
       "      <td>239.554</td>\n",
       "      <td>97</td>\n",
       "      <td>0</td>\n",
       "      <td>High school</td>\n",
       "      <td>0</td>\n",
       "      <td>1</td>\n",
       "      <td>0</td>\n",
       "      <td>0</td>\n",
       "      <td>89</td>\n",
       "      <td>170</td>\n",
       "      <td>31</td>\n",
       "      <td>2</td>\n",
       "    </tr>\n",
       "    <tr>\n",
       "      <th>3</th>\n",
       "      <td>7</td>\n",
       "      <td>Diseases of the eye and adnexa</td>\n",
       "      <td>7</td>\n",
       "      <td>Thursday</td>\n",
       "      <td>5</td>\n",
       "      <td>14</td>\n",
       "      <td>39</td>\n",
       "      <td>239.554</td>\n",
       "      <td>97</td>\n",
       "      <td>0</td>\n",
       "      <td>High school</td>\n",
       "      <td>2</td>\n",
       "      <td>1</td>\n",
       "      <td>1</td>\n",
       "      <td>0</td>\n",
       "      <td>68</td>\n",
       "      <td>168</td>\n",
       "      <td>24</td>\n",
       "      <td>4</td>\n",
       "    </tr>\n",
       "    <tr>\n",
       "      <th>4</th>\n",
       "      <td>11</td>\n",
       "      <td>Blood donation</td>\n",
       "      <td>7</td>\n",
       "      <td>Thursday</td>\n",
       "      <td>36</td>\n",
       "      <td>13</td>\n",
       "      <td>33</td>\n",
       "      <td>239.554</td>\n",
       "      <td>97</td>\n",
       "      <td>0</td>\n",
       "      <td>High school</td>\n",
       "      <td>2</td>\n",
       "      <td>1</td>\n",
       "      <td>0</td>\n",
       "      <td>1</td>\n",
       "      <td>90</td>\n",
       "      <td>172</td>\n",
       "      <td>30</td>\n",
       "      <td>2</td>\n",
       "    </tr>\n",
       "    <tr>\n",
       "      <th>5</th>\n",
       "      <td>3</td>\n",
       "      <td>Blood donation</td>\n",
       "      <td>7</td>\n",
       "      <td>Friday</td>\n",
       "      <td>51</td>\n",
       "      <td>18</td>\n",
       "      <td>38</td>\n",
       "      <td>239.554</td>\n",
       "      <td>97</td>\n",
       "      <td>0</td>\n",
       "      <td>High school</td>\n",
       "      <td>0</td>\n",
       "      <td>1</td>\n",
       "      <td>0</td>\n",
       "      <td>0</td>\n",
       "      <td>89</td>\n",
       "      <td>170</td>\n",
       "      <td>31</td>\n",
       "      <td>2</td>\n",
       "    </tr>\n",
       "    <tr>\n",
       "      <th>6</th>\n",
       "      <td>10</td>\n",
       "      <td>Medical consultation</td>\n",
       "      <td>7</td>\n",
       "      <td>Friday</td>\n",
       "      <td>52</td>\n",
       "      <td>3</td>\n",
       "      <td>28</td>\n",
       "      <td>239.554</td>\n",
       "      <td>97</td>\n",
       "      <td>0</td>\n",
       "      <td>High school</td>\n",
       "      <td>1</td>\n",
       "      <td>1</td>\n",
       "      <td>0</td>\n",
       "      <td>4</td>\n",
       "      <td>80</td>\n",
       "      <td>172</td>\n",
       "      <td>27</td>\n",
       "      <td>8</td>\n",
       "    </tr>\n",
       "    <tr>\n",
       "      <th>7</th>\n",
       "      <td>20</td>\n",
       "      <td>Blood donation</td>\n",
       "      <td>7</td>\n",
       "      <td>Friday</td>\n",
       "      <td>50</td>\n",
       "      <td>11</td>\n",
       "      <td>36</td>\n",
       "      <td>239.554</td>\n",
       "      <td>97</td>\n",
       "      <td>0</td>\n",
       "      <td>High school</td>\n",
       "      <td>4</td>\n",
       "      <td>1</td>\n",
       "      <td>0</td>\n",
       "      <td>0</td>\n",
       "      <td>65</td>\n",
       "      <td>168</td>\n",
       "      <td>23</td>\n",
       "      <td>4</td>\n",
       "    </tr>\n",
       "    <tr>\n",
       "      <th>8</th>\n",
       "      <td>14</td>\n",
       "      <td>Injury, poisoning, and certain other consequen...</td>\n",
       "      <td>7</td>\n",
       "      <td>Monday</td>\n",
       "      <td>12</td>\n",
       "      <td>14</td>\n",
       "      <td>34</td>\n",
       "      <td>239.554</td>\n",
       "      <td>97</td>\n",
       "      <td>0</td>\n",
       "      <td>High school</td>\n",
       "      <td>2</td>\n",
       "      <td>1</td>\n",
       "      <td>0</td>\n",
       "      <td>0</td>\n",
       "      <td>95</td>\n",
       "      <td>196</td>\n",
       "      <td>25</td>\n",
       "      <td>40</td>\n",
       "    </tr>\n",
       "    <tr>\n",
       "      <th>9</th>\n",
       "      <td>1</td>\n",
       "      <td>Medical consultation</td>\n",
       "      <td>7</td>\n",
       "      <td>Monday</td>\n",
       "      <td>11</td>\n",
       "      <td>14</td>\n",
       "      <td>37</td>\n",
       "      <td>239.554</td>\n",
       "      <td>97</td>\n",
       "      <td>0</td>\n",
       "      <td>Postgraduate</td>\n",
       "      <td>1</td>\n",
       "      <td>0</td>\n",
       "      <td>0</td>\n",
       "      <td>1</td>\n",
       "      <td>88</td>\n",
       "      <td>172</td>\n",
       "      <td>29</td>\n",
       "      <td>8</td>\n",
       "    </tr>\n",
       "  </tbody>\n",
       "</table>\n",
       "</div>"
      ],
      "text/plain": [
       "   ID                                 Reason for absence  Month of absence  \\\n",
       "0  11                                  Patient follow-up                 7   \n",
       "1  36                                    No reason given                 7   \n",
       "2   3                                     Blood donation                 7   \n",
       "3   7                     Diseases of the eye and adnexa                 7   \n",
       "4  11                                     Blood donation                 7   \n",
       "5   3                                     Blood donation                 7   \n",
       "6  10                               Medical consultation                 7   \n",
       "7  20                                     Blood donation                 7   \n",
       "8  14  Injury, poisoning, and certain other consequen...                 7   \n",
       "9   1                               Medical consultation                 7   \n",
       "\n",
       "  Day of the week  Distance from Residence to Work  Service time  Age  \\\n",
       "0         Tuesday                               36            13   33   \n",
       "1         Tuesday                               13            18   50   \n",
       "2       Wednesday                               51            18   38   \n",
       "3        Thursday                                5            14   39   \n",
       "4        Thursday                               36            13   33   \n",
       "5          Friday                               51            18   38   \n",
       "6          Friday                               52             3   28   \n",
       "7          Friday                               50            11   36   \n",
       "8          Monday                               12            14   34   \n",
       "9          Monday                               11            14   37   \n",
       "\n",
       "   Work load Average/day   Hit target  Disciplinary failure     Education  \\\n",
       "0                 239.554          97                     0   High school   \n",
       "1                 239.554          97                     1   High school   \n",
       "2                 239.554          97                     0   High school   \n",
       "3                 239.554          97                     0   High school   \n",
       "4                 239.554          97                     0   High school   \n",
       "5                 239.554          97                     0   High school   \n",
       "6                 239.554          97                     0   High school   \n",
       "7                 239.554          97                     0   High school   \n",
       "8                 239.554          97                     0   High school   \n",
       "9                 239.554          97                     0  Postgraduate   \n",
       "\n",
       "   Number of Children  Social drinker  Social smoker  Pet  Weight  Height  \\\n",
       "0                   2               1              0    1      90     172   \n",
       "1                   1               1              0    0      98     178   \n",
       "2                   0               1              0    0      89     170   \n",
       "3                   2               1              1    0      68     168   \n",
       "4                   2               1              0    1      90     172   \n",
       "5                   0               1              0    0      89     170   \n",
       "6                   1               1              0    4      80     172   \n",
       "7                   4               1              0    0      65     168   \n",
       "8                   2               1              0    0      95     196   \n",
       "9                   1               0              0    1      88     172   \n",
       "\n",
       "   Body mass index  Absenteeism time in hours  \n",
       "0               30                          4  \n",
       "1               31                          0  \n",
       "2               31                          2  \n",
       "3               24                          4  \n",
       "4               30                          2  \n",
       "5               31                          2  \n",
       "6               27                          8  \n",
       "7               23                          4  \n",
       "8               25                         40  \n",
       "9               29                          8  "
      ]
     },
     "execution_count": 1,
     "metadata": {},
     "output_type": "execute_result"
    }
   ],
   "source": [
    "import pandas as pd \n",
    "import numpy as np\n",
    "\n",
    "data = pd.read_csv('data/data.csv', index_col=0)\n",
    "print(data.dtypes)\n",
    "print()\n",
    "print('Summary Statistics for Target Variable: \\n', data['Absenteeism time in hours'].describe())\n",
    "# we have a mix of categorical, numeric, and string data.\n",
    "data.head(10)"
   ]
  },
  {
   "cell_type": "code",
   "execution_count": 2,
   "metadata": {},
   "outputs": [
    {
     "data": {
      "text/html": [
       "<div>\n",
       "<style scoped>\n",
       "    .dataframe tbody tr th:only-of-type {\n",
       "        vertical-align: middle;\n",
       "    }\n",
       "\n",
       "    .dataframe tbody tr th {\n",
       "        vertical-align: top;\n",
       "    }\n",
       "\n",
       "    .dataframe thead th {\n",
       "        text-align: right;\n",
       "    }\n",
       "</style>\n",
       "<table border=\"1\" class=\"dataframe\">\n",
       "  <thead>\n",
       "    <tr style=\"text-align: right;\">\n",
       "      <th></th>\n",
       "      <th>ID</th>\n",
       "      <th>Reason for absence</th>\n",
       "      <th>Month of absence</th>\n",
       "      <th>Day of the week</th>\n",
       "      <th>Distance from Residence to Work</th>\n",
       "      <th>Service time</th>\n",
       "      <th>Age</th>\n",
       "      <th>Work load Average/day</th>\n",
       "      <th>Hit target</th>\n",
       "      <th>Disciplinary failure</th>\n",
       "      <th>Education</th>\n",
       "      <th>Number of Children</th>\n",
       "      <th>Social drinker</th>\n",
       "      <th>Social smoker</th>\n",
       "      <th>Pet</th>\n",
       "      <th>Weight</th>\n",
       "      <th>Height</th>\n",
       "      <th>Body mass index</th>\n",
       "      <th>Absenteeism time in hours</th>\n",
       "    </tr>\n",
       "  </thead>\n",
       "  <tbody>\n",
       "    <tr>\n",
       "      <th>231</th>\n",
       "      <td>36</td>\n",
       "      <td>Diseases of the muskuloskeletal system and con...</td>\n",
       "      <td>6</td>\n",
       "      <td>Wednesday</td>\n",
       "      <td>13</td>\n",
       "      <td>18</td>\n",
       "      <td>50</td>\n",
       "      <td>377.550</td>\n",
       "      <td>94</td>\n",
       "      <td>0</td>\n",
       "      <td>High school</td>\n",
       "      <td>1</td>\n",
       "      <td>1</td>\n",
       "      <td>0</td>\n",
       "      <td>0</td>\n",
       "      <td>98</td>\n",
       "      <td>178</td>\n",
       "      <td>31</td>\n",
       "      <td>80</td>\n",
       "    </tr>\n",
       "    <tr>\n",
       "      <th>323</th>\n",
       "      <td>14</td>\n",
       "      <td>Diseases of the digestive system</td>\n",
       "      <td>11</td>\n",
       "      <td>Monday</td>\n",
       "      <td>12</td>\n",
       "      <td>14</td>\n",
       "      <td>34</td>\n",
       "      <td>284.031</td>\n",
       "      <td>97</td>\n",
       "      <td>0</td>\n",
       "      <td>High school</td>\n",
       "      <td>2</td>\n",
       "      <td>1</td>\n",
       "      <td>0</td>\n",
       "      <td>0</td>\n",
       "      <td>95</td>\n",
       "      <td>196</td>\n",
       "      <td>25</td>\n",
       "      <td>120</td>\n",
       "    </tr>\n",
       "    <tr>\n",
       "      <th>420</th>\n",
       "      <td>36</td>\n",
       "      <td>Diseases of the muskuloskeletal system and con...</td>\n",
       "      <td>4</td>\n",
       "      <td>Wednesday</td>\n",
       "      <td>13</td>\n",
       "      <td>18</td>\n",
       "      <td>50</td>\n",
       "      <td>239.409</td>\n",
       "      <td>98</td>\n",
       "      <td>0</td>\n",
       "      <td>High school</td>\n",
       "      <td>1</td>\n",
       "      <td>1</td>\n",
       "      <td>0</td>\n",
       "      <td>0</td>\n",
       "      <td>98</td>\n",
       "      <td>178</td>\n",
       "      <td>31</td>\n",
       "      <td>120</td>\n",
       "    </tr>\n",
       "    <tr>\n",
       "      <th>471</th>\n",
       "      <td>28</td>\n",
       "      <td>Diseases of the circulatory system</td>\n",
       "      <td>7</td>\n",
       "      <td>Tuesday</td>\n",
       "      <td>26</td>\n",
       "      <td>9</td>\n",
       "      <td>28</td>\n",
       "      <td>230.290</td>\n",
       "      <td>92</td>\n",
       "      <td>0</td>\n",
       "      <td>High school</td>\n",
       "      <td>1</td>\n",
       "      <td>0</td>\n",
       "      <td>0</td>\n",
       "      <td>2</td>\n",
       "      <td>69</td>\n",
       "      <td>169</td>\n",
       "      <td>24</td>\n",
       "      <td>112</td>\n",
       "    </tr>\n",
       "    <tr>\n",
       "      <th>569</th>\n",
       "      <td>14</td>\n",
       "      <td>Symptoms, signs and abnormal clinical and labo...</td>\n",
       "      <td>12</td>\n",
       "      <td>Tuesday</td>\n",
       "      <td>12</td>\n",
       "      <td>14</td>\n",
       "      <td>34</td>\n",
       "      <td>280.549</td>\n",
       "      <td>98</td>\n",
       "      <td>0</td>\n",
       "      <td>High school</td>\n",
       "      <td>2</td>\n",
       "      <td>1</td>\n",
       "      <td>0</td>\n",
       "      <td>0</td>\n",
       "      <td>95</td>\n",
       "      <td>196</td>\n",
       "      <td>25</td>\n",
       "      <td>80</td>\n",
       "    </tr>\n",
       "    <tr>\n",
       "      <th>622</th>\n",
       "      <td>9</td>\n",
       "      <td>Diseases of the ckin and subcutaneous tissue</td>\n",
       "      <td>3</td>\n",
       "      <td>Tuesday</td>\n",
       "      <td>14</td>\n",
       "      <td>16</td>\n",
       "      <td>58</td>\n",
       "      <td>222.196</td>\n",
       "      <td>99</td>\n",
       "      <td>0</td>\n",
       "      <td>High school</td>\n",
       "      <td>2</td>\n",
       "      <td>0</td>\n",
       "      <td>0</td>\n",
       "      <td>1</td>\n",
       "      <td>65</td>\n",
       "      <td>172</td>\n",
       "      <td>22</td>\n",
       "      <td>112</td>\n",
       "    </tr>\n",
       "    <tr>\n",
       "      <th>652</th>\n",
       "      <td>11</td>\n",
       "      <td>Injury, poisoning, and certain other consequen...</td>\n",
       "      <td>3</td>\n",
       "      <td>Monday</td>\n",
       "      <td>36</td>\n",
       "      <td>13</td>\n",
       "      <td>33</td>\n",
       "      <td>222.196</td>\n",
       "      <td>99</td>\n",
       "      <td>0</td>\n",
       "      <td>High school</td>\n",
       "      <td>2</td>\n",
       "      <td>1</td>\n",
       "      <td>0</td>\n",
       "      <td>1</td>\n",
       "      <td>90</td>\n",
       "      <td>172</td>\n",
       "      <td>30</td>\n",
       "      <td>104</td>\n",
       "    </tr>\n",
       "    <tr>\n",
       "      <th>729</th>\n",
       "      <td>9</td>\n",
       "      <td>Diseases of the nervous system</td>\n",
       "      <td>7</td>\n",
       "      <td>Tuesday</td>\n",
       "      <td>14</td>\n",
       "      <td>16</td>\n",
       "      <td>58</td>\n",
       "      <td>264.604</td>\n",
       "      <td>93</td>\n",
       "      <td>0</td>\n",
       "      <td>High school</td>\n",
       "      <td>2</td>\n",
       "      <td>0</td>\n",
       "      <td>0</td>\n",
       "      <td>1</td>\n",
       "      <td>65</td>\n",
       "      <td>172</td>\n",
       "      <td>22</td>\n",
       "      <td>120</td>\n",
       "    </tr>\n",
       "    <tr>\n",
       "      <th>734</th>\n",
       "      <td>13</td>\n",
       "      <td>Diseases of the muskuloskeletal system and con...</td>\n",
       "      <td>7</td>\n",
       "      <td>Monday</td>\n",
       "      <td>17</td>\n",
       "      <td>12</td>\n",
       "      <td>31</td>\n",
       "      <td>264.604</td>\n",
       "      <td>93</td>\n",
       "      <td>0</td>\n",
       "      <td>High school</td>\n",
       "      <td>3</td>\n",
       "      <td>1</td>\n",
       "      <td>0</td>\n",
       "      <td>0</td>\n",
       "      <td>70</td>\n",
       "      <td>169</td>\n",
       "      <td>25</td>\n",
       "      <td>80</td>\n",
       "    </tr>\n",
       "    <tr>\n",
       "      <th>740</th>\n",
       "      <td>14</td>\n",
       "      <td>Diseases of the digestive system</td>\n",
       "      <td>11</td>\n",
       "      <td>Monday</td>\n",
       "      <td>12</td>\n",
       "      <td>14</td>\n",
       "      <td>34</td>\n",
       "      <td>284.031</td>\n",
       "      <td>97</td>\n",
       "      <td>0</td>\n",
       "      <td>High school</td>\n",
       "      <td>2</td>\n",
       "      <td>1</td>\n",
       "      <td>0</td>\n",
       "      <td>0</td>\n",
       "      <td>95</td>\n",
       "      <td>196</td>\n",
       "      <td>25</td>\n",
       "      <td>120</td>\n",
       "    </tr>\n",
       "    <tr>\n",
       "      <th>741</th>\n",
       "      <td>36</td>\n",
       "      <td>Diseases of the muskuloskeletal system and con...</td>\n",
       "      <td>4</td>\n",
       "      <td>Wednesday</td>\n",
       "      <td>13</td>\n",
       "      <td>18</td>\n",
       "      <td>50</td>\n",
       "      <td>239.409</td>\n",
       "      <td>98</td>\n",
       "      <td>0</td>\n",
       "      <td>High school</td>\n",
       "      <td>1</td>\n",
       "      <td>1</td>\n",
       "      <td>0</td>\n",
       "      <td>0</td>\n",
       "      <td>98</td>\n",
       "      <td>178</td>\n",
       "      <td>31</td>\n",
       "      <td>120</td>\n",
       "    </tr>\n",
       "    <tr>\n",
       "      <th>742</th>\n",
       "      <td>9</td>\n",
       "      <td>Diseases of the nervous system</td>\n",
       "      <td>7</td>\n",
       "      <td>Tuesday</td>\n",
       "      <td>14</td>\n",
       "      <td>16</td>\n",
       "      <td>58</td>\n",
       "      <td>264.604</td>\n",
       "      <td>93</td>\n",
       "      <td>0</td>\n",
       "      <td>High school</td>\n",
       "      <td>2</td>\n",
       "      <td>0</td>\n",
       "      <td>0</td>\n",
       "      <td>1</td>\n",
       "      <td>65</td>\n",
       "      <td>172</td>\n",
       "      <td>22</td>\n",
       "      <td>120</td>\n",
       "    </tr>\n",
       "    <tr>\n",
       "      <th>743</th>\n",
       "      <td>28</td>\n",
       "      <td>Diseases of the circulatory system</td>\n",
       "      <td>7</td>\n",
       "      <td>Tuesday</td>\n",
       "      <td>26</td>\n",
       "      <td>9</td>\n",
       "      <td>28</td>\n",
       "      <td>230.290</td>\n",
       "      <td>92</td>\n",
       "      <td>0</td>\n",
       "      <td>High school</td>\n",
       "      <td>1</td>\n",
       "      <td>0</td>\n",
       "      <td>0</td>\n",
       "      <td>2</td>\n",
       "      <td>69</td>\n",
       "      <td>169</td>\n",
       "      <td>24</td>\n",
       "      <td>112</td>\n",
       "    </tr>\n",
       "    <tr>\n",
       "      <th>744</th>\n",
       "      <td>9</td>\n",
       "      <td>Diseases of the ckin and subcutaneous tissue</td>\n",
       "      <td>3</td>\n",
       "      <td>Tuesday</td>\n",
       "      <td>14</td>\n",
       "      <td>16</td>\n",
       "      <td>58</td>\n",
       "      <td>222.196</td>\n",
       "      <td>99</td>\n",
       "      <td>0</td>\n",
       "      <td>High school</td>\n",
       "      <td>2</td>\n",
       "      <td>0</td>\n",
       "      <td>0</td>\n",
       "      <td>1</td>\n",
       "      <td>65</td>\n",
       "      <td>172</td>\n",
       "      <td>22</td>\n",
       "      <td>112</td>\n",
       "    </tr>\n",
       "    <tr>\n",
       "      <th>745</th>\n",
       "      <td>11</td>\n",
       "      <td>Injury, poisoning, and certain other consequen...</td>\n",
       "      <td>3</td>\n",
       "      <td>Monday</td>\n",
       "      <td>36</td>\n",
       "      <td>13</td>\n",
       "      <td>33</td>\n",
       "      <td>222.196</td>\n",
       "      <td>99</td>\n",
       "      <td>0</td>\n",
       "      <td>High school</td>\n",
       "      <td>2</td>\n",
       "      <td>1</td>\n",
       "      <td>0</td>\n",
       "      <td>1</td>\n",
       "      <td>90</td>\n",
       "      <td>172</td>\n",
       "      <td>30</td>\n",
       "      <td>104</td>\n",
       "    </tr>\n",
       "    <tr>\n",
       "      <th>746</th>\n",
       "      <td>36</td>\n",
       "      <td>Diseases of the muskuloskeletal system and con...</td>\n",
       "      <td>6</td>\n",
       "      <td>Wednesday</td>\n",
       "      <td>13</td>\n",
       "      <td>18</td>\n",
       "      <td>50</td>\n",
       "      <td>377.550</td>\n",
       "      <td>94</td>\n",
       "      <td>0</td>\n",
       "      <td>High school</td>\n",
       "      <td>1</td>\n",
       "      <td>1</td>\n",
       "      <td>0</td>\n",
       "      <td>0</td>\n",
       "      <td>98</td>\n",
       "      <td>178</td>\n",
       "      <td>31</td>\n",
       "      <td>80</td>\n",
       "    </tr>\n",
       "    <tr>\n",
       "      <th>747</th>\n",
       "      <td>14</td>\n",
       "      <td>Symptoms, signs and abnormal clinical and labo...</td>\n",
       "      <td>12</td>\n",
       "      <td>Tuesday</td>\n",
       "      <td>12</td>\n",
       "      <td>14</td>\n",
       "      <td>34</td>\n",
       "      <td>280.549</td>\n",
       "      <td>98</td>\n",
       "      <td>0</td>\n",
       "      <td>High school</td>\n",
       "      <td>2</td>\n",
       "      <td>1</td>\n",
       "      <td>0</td>\n",
       "      <td>0</td>\n",
       "      <td>95</td>\n",
       "      <td>196</td>\n",
       "      <td>25</td>\n",
       "      <td>80</td>\n",
       "    </tr>\n",
       "    <tr>\n",
       "      <th>748</th>\n",
       "      <td>13</td>\n",
       "      <td>Diseases of the muskuloskeletal system and con...</td>\n",
       "      <td>7</td>\n",
       "      <td>Monday</td>\n",
       "      <td>17</td>\n",
       "      <td>12</td>\n",
       "      <td>31</td>\n",
       "      <td>264.604</td>\n",
       "      <td>93</td>\n",
       "      <td>0</td>\n",
       "      <td>High school</td>\n",
       "      <td>3</td>\n",
       "      <td>1</td>\n",
       "      <td>0</td>\n",
       "      <td>0</td>\n",
       "      <td>70</td>\n",
       "      <td>169</td>\n",
       "      <td>25</td>\n",
       "      <td>80</td>\n",
       "    </tr>\n",
       "  </tbody>\n",
       "</table>\n",
       "</div>"
      ],
      "text/plain": [
       "     ID                                 Reason for absence  Month of absence  \\\n",
       "231  36  Diseases of the muskuloskeletal system and con...                 6   \n",
       "323  14                   Diseases of the digestive system                11   \n",
       "420  36  Diseases of the muskuloskeletal system and con...                 4   \n",
       "471  28                 Diseases of the circulatory system                 7   \n",
       "569  14  Symptoms, signs and abnormal clinical and labo...                12   \n",
       "622   9       Diseases of the ckin and subcutaneous tissue                 3   \n",
       "652  11  Injury, poisoning, and certain other consequen...                 3   \n",
       "729   9                     Diseases of the nervous system                 7   \n",
       "734  13  Diseases of the muskuloskeletal system and con...                 7   \n",
       "740  14                   Diseases of the digestive system                11   \n",
       "741  36  Diseases of the muskuloskeletal system and con...                 4   \n",
       "742   9                     Diseases of the nervous system                 7   \n",
       "743  28                 Diseases of the circulatory system                 7   \n",
       "744   9       Diseases of the ckin and subcutaneous tissue                 3   \n",
       "745  11  Injury, poisoning, and certain other consequen...                 3   \n",
       "746  36  Diseases of the muskuloskeletal system and con...                 6   \n",
       "747  14  Symptoms, signs and abnormal clinical and labo...                12   \n",
       "748  13  Diseases of the muskuloskeletal system and con...                 7   \n",
       "\n",
       "    Day of the week  Distance from Residence to Work  Service time  Age  \\\n",
       "231       Wednesday                               13            18   50   \n",
       "323          Monday                               12            14   34   \n",
       "420       Wednesday                               13            18   50   \n",
       "471         Tuesday                               26             9   28   \n",
       "569         Tuesday                               12            14   34   \n",
       "622         Tuesday                               14            16   58   \n",
       "652          Monday                               36            13   33   \n",
       "729         Tuesday                               14            16   58   \n",
       "734          Monday                               17            12   31   \n",
       "740          Monday                               12            14   34   \n",
       "741       Wednesday                               13            18   50   \n",
       "742         Tuesday                               14            16   58   \n",
       "743         Tuesday                               26             9   28   \n",
       "744         Tuesday                               14            16   58   \n",
       "745          Monday                               36            13   33   \n",
       "746       Wednesday                               13            18   50   \n",
       "747         Tuesday                               12            14   34   \n",
       "748          Monday                               17            12   31   \n",
       "\n",
       "     Work load Average/day   Hit target  Disciplinary failure    Education  \\\n",
       "231                 377.550          94                     0  High school   \n",
       "323                 284.031          97                     0  High school   \n",
       "420                 239.409          98                     0  High school   \n",
       "471                 230.290          92                     0  High school   \n",
       "569                 280.549          98                     0  High school   \n",
       "622                 222.196          99                     0  High school   \n",
       "652                 222.196          99                     0  High school   \n",
       "729                 264.604          93                     0  High school   \n",
       "734                 264.604          93                     0  High school   \n",
       "740                 284.031          97                     0  High school   \n",
       "741                 239.409          98                     0  High school   \n",
       "742                 264.604          93                     0  High school   \n",
       "743                 230.290          92                     0  High school   \n",
       "744                 222.196          99                     0  High school   \n",
       "745                 222.196          99                     0  High school   \n",
       "746                 377.550          94                     0  High school   \n",
       "747                 280.549          98                     0  High school   \n",
       "748                 264.604          93                     0  High school   \n",
       "\n",
       "     Number of Children  Social drinker  Social smoker  Pet  Weight  Height  \\\n",
       "231                   1               1              0    0      98     178   \n",
       "323                   2               1              0    0      95     196   \n",
       "420                   1               1              0    0      98     178   \n",
       "471                   1               0              0    2      69     169   \n",
       "569                   2               1              0    0      95     196   \n",
       "622                   2               0              0    1      65     172   \n",
       "652                   2               1              0    1      90     172   \n",
       "729                   2               0              0    1      65     172   \n",
       "734                   3               1              0    0      70     169   \n",
       "740                   2               1              0    0      95     196   \n",
       "741                   1               1              0    0      98     178   \n",
       "742                   2               0              0    1      65     172   \n",
       "743                   1               0              0    2      69     169   \n",
       "744                   2               0              0    1      65     172   \n",
       "745                   2               1              0    1      90     172   \n",
       "746                   1               1              0    0      98     178   \n",
       "747                   2               1              0    0      95     196   \n",
       "748                   3               1              0    0      70     169   \n",
       "\n",
       "     Body mass index  Absenteeism time in hours  \n",
       "231               31                         80  \n",
       "323               25                        120  \n",
       "420               31                        120  \n",
       "471               24                        112  \n",
       "569               25                         80  \n",
       "622               22                        112  \n",
       "652               30                        104  \n",
       "729               22                        120  \n",
       "734               25                         80  \n",
       "740               25                        120  \n",
       "741               31                        120  \n",
       "742               22                        120  \n",
       "743               24                        112  \n",
       "744               22                        112  \n",
       "745               30                        104  \n",
       "746               31                         80  \n",
       "747               25                         80  \n",
       "748               25                         80  "
      ]
     },
     "execution_count": 2,
     "metadata": {},
     "output_type": "execute_result"
    }
   ],
   "source": [
    "data[data['Absenteeism time in hours'] > 70]"
   ]
  },
  {
   "cell_type": "markdown",
   "metadata": {},
   "source": [
    "### Let's start by writing some initial tests to check our data:"
   ]
  },
  {
   "cell_type": "code",
   "execution_count": 3,
   "metadata": {},
   "outputs": [],
   "source": [
    "# Checking that we don't have any null values\n",
    "assert data.isnull().any().any() == False\n",
    "\n",
    "# test passes. No missing values exist."
   ]
  },
  {
   "cell_type": "markdown",
   "metadata": {},
   "source": [
    "How can we get an initial idea of the shape and form of our data?\n",
    "\n",
    "We can start by phrasing a few questions, and working to answer them.\n",
    "\n",
    "#### 1. What is the average amount of time for which employees are sick?"
   ]
  },
  {
   "cell_type": "code",
   "execution_count": 4,
   "metadata": {},
   "outputs": [
    {
     "name": "stdout",
     "output_type": "stream",
     "text": [
      "8.08010680907877\n"
     ]
    }
   ],
   "source": [
    "mean_absenteeism_time = data['Absenteeism time in hours'].mean()\n",
    "print(mean_absenteeism_time)"
   ]
  },
  {
   "cell_type": "markdown",
   "metadata": {},
   "source": [
    "#### 2. What is the average age of our employees?"
   ]
  },
  {
   "cell_type": "code",
   "execution_count": 5,
   "metadata": {},
   "outputs": [
    {
     "data": {
      "text/plain": [
       "36.51401869158879"
      ]
     },
     "execution_count": 5,
     "metadata": {},
     "output_type": "execute_result"
    }
   ],
   "source": [
    "data['Age'].mean()"
   ]
  },
  {
   "cell_type": "markdown",
   "metadata": {
    "collapsed": true
   },
   "source": [
    "## Exercise: \n",
    "#### 3. What are the top 5 most common reason that employees are absent?\n",
    "Get answer:"
   ]
  },
  {
   "cell_type": "code",
   "execution_count": null,
   "metadata": {},
   "outputs": [],
   "source": []
  },
  {
   "cell_type": "markdown",
   "metadata": {},
   "source": [
    "**Double click to see the solution**\n",
    "\n",
    "<div class='spoiler'>\n",
    "data.groupby(['Reason for absence'])['Reason for absence'].count().sort_values(ascending=False)[0:5]\n",
    "\n",
    "</div>"
   ]
  },
  {
   "cell_type": "markdown",
   "metadata": {
    "collapsed": true
   },
   "source": [
    "# Exercise: \n",
    "#### Write your own question and answer it:"
   ]
  },
  {
   "cell_type": "code",
   "execution_count": null,
   "metadata": {
    "collapsed": true
   },
   "outputs": [],
   "source": []
  },
  {
   "cell_type": "markdown",
   "metadata": {},
   "source": [
    "### Now that we have a rough idea of the data, we can start preparing it for modeling.\n",
    "At the very least, we need to:\n",
    "1. Separate the target from the features\n",
    "2. Split the data into test and train \n",
    "3. Encode the categorical features (also means separating them from the numeric features)\n",
    "4. Scale the numeric features\n",
    "5. Choose and apply a final estimator\n",
    "6. Calculate the score of the estimator\n",
    "\n",
    "**Which of these steps can we build into a pipeline?**"
   ]
  },
  {
   "cell_type": "markdown",
   "metadata": {},
   "source": [
    "#### Non-pipeline steps:"
   ]
  },
  {
   "cell_type": "code",
   "execution_count": 6,
   "metadata": {
    "collapsed": true
   },
   "outputs": [],
   "source": [
    "target = data['Absenteeism time in hours']\n",
    "features = data.drop('Absenteeism time in hours', axis=1)"
   ]
  },
  {
   "cell_type": "code",
   "execution_count": 7,
   "metadata": {},
   "outputs": [],
   "source": [
    "from sklearn.model_selection import train_test_split\n",
    "x_train, x_test, y_train, y_test = train_test_split(features, target, test_size=0.2, random_state=10)"
   ]
  },
  {
   "cell_type": "markdown",
   "metadata": {},
   "source": [
    "# Pipeline Steps: \n",
    "### Step 1: Building the Transformers"
   ]
  },
  {
   "cell_type": "markdown",
   "metadata": {},
   "source": [
    "### Separating the numeric columns from the categorical ones:\n",
    "Start with a test! What does the outcome look like?\n",
    "We can start with the assert statement, and work backwards to developing a full test. \n",
    "\n",
    "\n",
    "```python\n",
    "# checking that when we fit & transform with the transformer, we only have numeric columns.\n",
    "for column in processed_df:\n",
    "    assert is_numeric_dtype(df[column])\n",
    "```\n"
   ]
  },
  {
   "cell_type": "markdown",
   "metadata": {},
   "source": [
    "We can also start by defining what columns are categorical and what columns are numeric."
   ]
  },
  {
   "cell_type": "code",
   "execution_count": 8,
   "metadata": {},
   "outputs": [
    {
     "name": "stdout",
     "output_type": "stream",
     "text": [
      "['ID', 'Reason for absence', 'Month of absence', 'Day of the week', 'Distance from Residence to Work', 'Service time', 'Age', 'Work load Average/day ', 'Hit target', 'Disciplinary failure', 'Education', 'Number of Children', 'Social drinker', 'Social smoker', 'Pet', 'Weight', 'Height', 'Body mass index']\n"
     ]
    }
   ],
   "source": [
    "print(list(features.columns))"
   ]
  },
  {
   "cell_type": "markdown",
   "metadata": {},
   "source": [
    "Note: Some of the \"numeric\" columns are more categorical in nature (ex: month of absence, ID). We don't want to scale these as they are not continuous values. For this reason, we will split them out on their own."
   ]
  },
  {
   "cell_type": "markdown",
   "metadata": {},
   "source": [
    "We have 2 features with categories represented by strings.\n",
    "There are 2 ways to deal with these: We can Label Encode them, essentially making them ordinal features (like ID already is). Or, we can one-hot encode them. This means making a column with binary values for each of the possible values of the feature.\n",
    "\n",
    "The one that will work best for our purposes will depend on how many features there are, and the shape of our data."
   ]
  },
  {
   "cell_type": "code",
   "execution_count": 9,
   "metadata": {},
   "outputs": [
    {
     "data": {
      "text/plain": [
       "28"
      ]
     },
     "execution_count": 9,
     "metadata": {},
     "output_type": "execute_result"
    }
   ],
   "source": [
    "len(set(features['Reason for absence']))"
   ]
  },
  {
   "cell_type": "markdown",
   "metadata": {},
   "source": [
    "Making 28 new columns for all of the reasons of absence can start to lead to the \"curse of dimensionality', especially given that our data only has about 740 records."
   ]
  },
  {
   "cell_type": "code",
   "execution_count": 10,
   "metadata": {},
   "outputs": [
    {
     "data": {
      "text/plain": [
       "4"
      ]
     },
     "execution_count": 10,
     "metadata": {},
     "output_type": "execute_result"
    }
   ],
   "source": [
    "len(set(features['Education']))"
   ]
  },
  {
   "cell_type": "code",
   "execution_count": 11,
   "metadata": {
    "collapsed": true
   },
   "outputs": [],
   "source": [
    "numeric_columns = ['Distance from Residence to Work',\n",
    "                   'Service time',\n",
    "                   'Age',\n",
    "                   'Work load Average/day ',\n",
    "                   'Weight', \n",
    "                   'Height',\n",
    "                   'Body mass index']\n",
    "\n",
    "binary_columns = ['ID',\n",
    "                  'Month of absence',\n",
    "                  'Disciplinary failure',\n",
    "                  'Number of Children',\n",
    "                  'Hit target',\n",
    "                  'Social drinker', \n",
    "                  'Social smoker', \n",
    "                  'Pet']\n",
    "\n",
    "label_encode_column = ['Reason for absence']\n",
    "one_hot_encode_column = ['Education', 'Day of the week']"
   ]
  },
  {
   "cell_type": "code",
   "execution_count": 12,
   "metadata": {
    "collapsed": true
   },
   "outputs": [],
   "source": [
    "import ipytest.magics\n",
    "import pytest\n",
    "# set the file name (required)\n",
    "__file__ = '1.3 Pipelines .ipynb'"
   ]
  },
  {
   "cell_type": "code",
   "execution_count": 13,
   "metadata": {
    "collapsed": true
   },
   "outputs": [],
   "source": [
    "from pandas.api.types import is_numeric_dtype\n",
    "\n",
    "import warnings\n",
    "warnings.filterwarnings(\"ignore\")"
   ]
  },
  {
   "cell_type": "markdown",
   "metadata": {},
   "source": [
    "Our test SHOULD fail! We haven't written the column selector yet!<br>\n",
    "Our goal is to make the test pass."
   ]
  },
  {
   "cell_type": "code",
   "execution_count": 14,
   "metadata": {},
   "outputs": [
    {
     "name": "stdout",
     "output_type": "stream",
     "text": [
      "============================= test session starts ==============================\n",
      "platform darwin -- Python 3.6.3, pytest-3.2.1, py-1.4.34, pluggy-0.4.0\n",
      "rootdir: /Users/rachelberryman/Documents/DSR_Model_Pipelines_Course, inifile:\n",
      "collected 1 item\n",
      "\n",
      "1.3 Pipelines .py F\n",
      "\n",
      "=================================== FAILURES ===================================\n",
      "_____________________________ test_ColumnSelector ______________________________\n",
      "\n",
      "    def test_ColumnSelector():\n",
      "        # Here, showing a test case for both categoric and numeric datatypes.\n",
      ">       for column in numeric_df:\n",
      "E       NameError: name 'numeric_df' is not defined\n",
      "\n",
      "<ipython-input-14-005d543dfbd4>:4: NameError\n",
      "=========================== 1 failed in 0.18 seconds ===========================\n"
     ]
    }
   ],
   "source": [
    "%%run_pytest \n",
    "\n",
    "def test_ColumnSelector():\n",
    "    # Here, showing a test case for both categoric and numeric datatypes.\n",
    "    for column in numeric_df:\n",
    "        assert is_numeric_dtype(numeric_df[column]) == True\n",
    "    \n",
    "    for column in categoric_df:\n",
    "        assert is_numeric_dtype(categoric_df[column]) == False\n"
   ]
  },
  {
   "cell_type": "code",
   "execution_count": 15,
   "metadata": {
    "collapsed": true
   },
   "outputs": [],
   "source": [
    "from sklearn.base import BaseEstimator, TransformerMixin\n",
    "from sklearn.feature_extraction import DictVectorizer\n",
    "from sklearn.pipeline import make_pipeline, make_union\n",
    "from sklearn.preprocessing import Imputer"
   ]
  },
  {
   "cell_type": "code",
   "execution_count": 16,
   "metadata": {},
   "outputs": [],
   "source": [
    "class ColumnSelector(BaseEstimator, TransformerMixin):\n",
    "    \n",
    "    def __init__(self, columns):\n",
    "        self.columns = columns\n",
    "        \n",
    "    def fit(self, x, y = None):\n",
    "        return self\n",
    "    \n",
    "    def transform(self, x):\n",
    "        cols = x.loc[:,self.columns]\n",
    "        return cols"
   ]
  },
  {
   "cell_type": "markdown",
   "metadata": {},
   "source": [
    "Applying to each of our data types:"
   ]
  },
  {
   "cell_type": "code",
   "execution_count": 17,
   "metadata": {},
   "outputs": [
    {
     "data": {
      "text/html": [
       "<div>\n",
       "<style scoped>\n",
       "    .dataframe tbody tr th:only-of-type {\n",
       "        vertical-align: middle;\n",
       "    }\n",
       "\n",
       "    .dataframe tbody tr th {\n",
       "        vertical-align: top;\n",
       "    }\n",
       "\n",
       "    .dataframe thead th {\n",
       "        text-align: right;\n",
       "    }\n",
       "</style>\n",
       "<table border=\"1\" class=\"dataframe\">\n",
       "  <thead>\n",
       "    <tr style=\"text-align: right;\">\n",
       "      <th></th>\n",
       "      <th>Distance from Residence to Work</th>\n",
       "      <th>Service time</th>\n",
       "      <th>Age</th>\n",
       "      <th>Work load Average/day</th>\n",
       "      <th>Weight</th>\n",
       "      <th>Height</th>\n",
       "      <th>Body mass index</th>\n",
       "    </tr>\n",
       "  </thead>\n",
       "  <tbody>\n",
       "    <tr>\n",
       "      <th>126</th>\n",
       "      <td>10</td>\n",
       "      <td>10</td>\n",
       "      <td>37</td>\n",
       "      <td>308.593</td>\n",
       "      <td>83</td>\n",
       "      <td>172</td>\n",
       "      <td>28</td>\n",
       "    </tr>\n",
       "    <tr>\n",
       "      <th>473</th>\n",
       "      <td>13</td>\n",
       "      <td>18</td>\n",
       "      <td>50</td>\n",
       "      <td>230.290</td>\n",
       "      <td>98</td>\n",
       "      <td>178</td>\n",
       "      <td>31</td>\n",
       "    </tr>\n",
       "    <tr>\n",
       "      <th>60</th>\n",
       "      <td>51</td>\n",
       "      <td>18</td>\n",
       "      <td>38</td>\n",
       "      <td>241.476</td>\n",
       "      <td>89</td>\n",
       "      <td>170</td>\n",
       "      <td>31</td>\n",
       "    </tr>\n",
       "    <tr>\n",
       "      <th>252</th>\n",
       "      <td>36</td>\n",
       "      <td>13</td>\n",
       "      <td>33</td>\n",
       "      <td>265.615</td>\n",
       "      <td>90</td>\n",
       "      <td>172</td>\n",
       "      <td>30</td>\n",
       "    </tr>\n",
       "    <tr>\n",
       "      <th>600</th>\n",
       "      <td>26</td>\n",
       "      <td>9</td>\n",
       "      <td>30</td>\n",
       "      <td>264.249</td>\n",
       "      <td>56</td>\n",
       "      <td>171</td>\n",
       "      <td>19</td>\n",
       "    </tr>\n",
       "  </tbody>\n",
       "</table>\n",
       "</div>"
      ],
      "text/plain": [
       "     Distance from Residence to Work  Service time  Age  \\\n",
       "126                               10            10   37   \n",
       "473                               13            18   50   \n",
       "60                                51            18   38   \n",
       "252                               36            13   33   \n",
       "600                               26             9   30   \n",
       "\n",
       "     Work load Average/day   Weight  Height  Body mass index  \n",
       "126                 308.593      83     172               28  \n",
       "473                 230.290      98     178               31  \n",
       "60                  241.476      89     170               31  \n",
       "252                 265.615      90     172               30  \n",
       "600                 264.249      56     171               19  "
      ]
     },
     "execution_count": 17,
     "metadata": {},
     "output_type": "execute_result"
    }
   ],
   "source": [
    "numeric_selector = ColumnSelector(numeric_columns)\n",
    "numeric_df = numeric_selector.fit_transform(x_train)\n",
    "numeric_df.head()"
   ]
  },
  {
   "cell_type": "code",
   "execution_count": 18,
   "metadata": {},
   "outputs": [],
   "source": [
    "label_encode_selector = ColumnSelector(label_encode_column)\n",
    "label_encode_df = label_encode_selector.fit_transform(x_train)\n",
    "\n",
    "one_hot_encode_selector = ColumnSelector(one_hot_encode_column)\n",
    "one_hot_encode_df = one_hot_encode_selector.fit_transform(x_train)\n",
    "\n",
    "binary_selector = ColumnSelector(binary_columns)\n",
    "binary_df = binary_selector.fit_transform(x_train)"
   ]
  },
  {
   "cell_type": "markdown",
   "metadata": {},
   "source": [
    "Now, let's see if we can make our test pass:"
   ]
  },
  {
   "cell_type": "code",
   "execution_count": 19,
   "metadata": {},
   "outputs": [
    {
     "name": "stdout",
     "output_type": "stream",
     "text": [
      "============================= test session starts ==============================\n",
      "platform darwin -- Python 3.6.3, pytest-3.2.1, py-1.4.34, pluggy-0.4.0\n",
      "rootdir: /Users/rachelberryman/Documents/DSR_Model_Pipelines_Course, inifile:\n",
      "collected 1 item\n",
      "\n",
      "1.3 Pipelines .py .\n",
      "\n",
      "=========================== 1 passed in 0.03 seconds ===========================\n"
     ]
    }
   ],
   "source": [
    "%%run_pytest \n",
    "\n",
    "def test_ColumnSelector():\n",
    "    # Here, showing a test case for both categoric and numeric datatypes.\n",
    "    for column in numeric_df:\n",
    "        assert is_numeric_dtype(numeric_df[column]) == True\n",
    "    \n",
    "    assert is_numeric_dtype(label_encode_df) == False\n",
    "    assert is_numeric_dtype(one_hot_encode_df) == False"
   ]
  },
  {
   "cell_type": "markdown",
   "metadata": {},
   "source": [
    "### Now, we can write more tests for the additional transformers we want to add into our pipeline.\n",
    "<del>`class CategoricFeatureEncoder(BaseEstimator, TransformerMixin):`</del>\n",
    "\n",
    "we don't need to write our own class for this. Scikit-learn, and another python package, Category Encoder, both already have many of these classes many built in. **When possible, don't reinvent the wheel. Use the transformers that are already there for you!**"
   ]
  },
  {
   "cell_type": "markdown",
   "metadata": {},
   "source": [
    "We will use 2 different encoders in our pipeline. The feature \"Reason for absence\" has 28 distinct categories. This is too many to one-hot encode and would add too many features when our dataset only has 740 records.\n",
    "\n",
    "We can still write some tests to see that they're working correctly. We'll start by using our ColumnSelector transformer (from our tests above) to separate out the 2 columns."
   ]
  },
  {
   "cell_type": "code",
   "execution_count": 20,
   "metadata": {},
   "outputs": [
    {
     "name": "stdout",
     "output_type": "stream",
     "text": [
      "Requirement already satisfied: category_encoders in /anaconda3/lib/python3.6/site-packages (1.2.8)\n",
      "Requirement already satisfied: scikit-learn>=0.15.0 in /anaconda3/lib/python3.6/site-packages (from category_encoders) (0.19.1)\n",
      "Requirement already satisfied: patsy>=0.4.0 in /anaconda3/lib/python3.6/site-packages (from category_encoders) (0.4.1)\n",
      "Requirement already satisfied: pandas>=0.15.0 in /anaconda3/lib/python3.6/site-packages (from category_encoders) (0.22.0)\n",
      "Requirement already satisfied: scipy>=0.9 in /anaconda3/lib/python3.6/site-packages (from category_encoders) (1.0.1)\n",
      "Requirement already satisfied: statsmodels<=0.8.0,>=0.6.0 in /anaconda3/lib/python3.6/site-packages (from category_encoders) (0.8.0)\n",
      "Requirement already satisfied: numpy>=1.8.0 in /anaconda3/lib/python3.6/site-packages (from category_encoders) (1.14.2)\n",
      "Requirement already satisfied: six in /anaconda3/lib/python3.6/site-packages (from patsy>=0.4.0->category_encoders) (1.11.0)\n",
      "Requirement already satisfied: pytz>=2011k in /anaconda3/lib/python3.6/site-packages (from pandas>=0.15.0->category_encoders) (2017.2)\n",
      "Requirement already satisfied: python-dateutil>=2 in /Users/rachelberryman/.local/lib/python3.6/site-packages (from pandas>=0.15.0->category_encoders) (2.7.3)\n",
      "\u001b[31mboto3 1.5.33 has requirement botocore<1.9.0,>=1.8.47, but you'll have botocore 1.10.19 which is incompatible.\u001b[0m\n",
      "\u001b[31mbacnet-controller 0.0.1 has requirement boto3==1.5.12, but you'll have boto3 1.5.33 which is incompatible.\u001b[0m\n",
      "\u001b[31mbacnet-controller 0.0.1 has requirement pytz==2018.3, but you'll have pytz 2017.2 which is incompatible.\u001b[0m\n"
     ]
    }
   ],
   "source": [
    "!pip install category_encoders"
   ]
  },
  {
   "cell_type": "code",
   "execution_count": 21,
   "metadata": {},
   "outputs": [],
   "source": [
    "from category_encoders.ordinal import OrdinalEncoder"
   ]
  },
  {
   "cell_type": "markdown",
   "metadata": {},
   "source": [
    "Note: Why are we not using sk-learn's [Label Encoder](), which works the same way as the [Ordinal Encoder](http://contrib.scikit-learn.org/categorical-encoding/ordinal.html) from the Category Encoders package? Because the sci-kit learn one (somehow) [doesn't work](https://github.com/scikit-learn/scikit-learn/issues/3112) with pipelines.\n"
   ]
  },
  {
   "cell_type": "code",
   "execution_count": 22,
   "metadata": {
    "scrolled": false
   },
   "outputs": [
    {
     "name": "stdout",
     "output_type": "stream",
     "text": [
      "============================= test session starts ==============================\n",
      "platform darwin -- Python 3.6.3, pytest-3.2.1, py-1.4.34, pluggy-0.4.0\n",
      "rootdir: /Users/rachelberryman/Documents/DSR_Model_Pipelines_Course, inifile:\n",
      "collected 2 items\n",
      "\n",
      "1.3 Pipelines .py ..\n",
      "\n",
      "=========================== 2 passed in 0.04 seconds ===========================\n"
     ]
    }
   ],
   "source": [
    "%%run_pytest \n",
    "\n",
    "def test_LabelEncoder():\n",
    "    encoder = OrdinalEncoder()\n",
    "    encoded_df = encoder.fit_transform(label_encode_df.values)\n",
    "    \n",
    "    # check for data leakage\n",
    "    assert encoded_df.shape[0] == label_encode_df.shape[0]\n",
    "    \n",
    "    # check that all values have been converted into integers\n",
    "    assert encoded_df.values.dtype == 'int64'"
   ]
  },
  {
   "cell_type": "markdown",
   "metadata": {},
   "source": [
    "### Exercise: Write a test for the One-Hot Encoder:"
   ]
  },
  {
   "cell_type": "markdown",
   "metadata": {},
   "source": [
    "**Double click to see the solution**\n",
    "\n",
    "<div class='spoiler'>\n",
    "\n",
    "<div>"
   ]
  },
  {
   "cell_type": "markdown",
   "metadata": {},
   "source": [
    "**Question**: Why are we not using the One-Hot Encoder from Scikit-Learn?"
   ]
  },
  {
   "cell_type": "code",
   "execution_count": 23,
   "metadata": {},
   "outputs": [],
   "source": [
    "from category_encoders.one_hot import OneHotEncoder\n",
    "one_hot = OneHotEncoder()\n",
    "one_hot_encoded_df = one_hot.fit_transform(one_hot_encode_df.values)"
   ]
  },
  {
   "cell_type": "code",
   "execution_count": 24,
   "metadata": {},
   "outputs": [
    {
     "name": "stdout",
     "output_type": "stream",
     "text": [
      "============================= test session starts ==============================\n",
      "platform darwin -- Python 3.6.3, pytest-3.2.1, py-1.4.34, pluggy-0.4.0\n",
      "rootdir: /Users/rachelberryman/Documents/DSR_Model_Pipelines_Course, inifile:\n",
      "collected 1 item\n",
      "\n",
      "1.3 Pipelines .py .\n",
      "\n",
      "=========================== 1 passed in 0.05 seconds ===========================\n"
     ]
    }
   ],
   "source": [
    "%%run_pytest[clean]\n",
    "\n",
    "def test_OneHotEncoder():\n",
    "    one_hot_encoder = OneHotEncoder()\n",
    "    one_hot_encoded_df = one_hot.fit_transform(one_hot_encode_df.values)\n",
    "    \n",
    "    # check for data leakage\n",
    "    assert one_hot_encoded_df.shape[0] == one_hot_encode_df.shape[0]\n",
    "    \n",
    "    # check that all values have been converted into integers\n",
    "    assert one_hot_encoded_df.dtypes.all() == 'int64'\n",
    "    \n",
    "    # check that only 0s and 1s exist in the new matrix\n",
    "    assert ((one_hot_encoded_df.values ==0) | (one_hot_encoded_df.values ==1)).all()\n",
    "    \n",
    "    # check that a dummy column has been made for each potential category \n",
    "    assert one_hot_encoded_df.shape[1] == len(set(one_hot_encoded_df))"
   ]
  },
  {
   "cell_type": "markdown",
   "metadata": {},
   "source": [
    "### Back to Numeric Data: Using Standard Scaler"
   ]
  },
  {
   "cell_type": "code",
   "execution_count": 25,
   "metadata": {},
   "outputs": [
    {
     "data": {
      "text/html": [
       "<div>\n",
       "<style scoped>\n",
       "    .dataframe tbody tr th:only-of-type {\n",
       "        vertical-align: middle;\n",
       "    }\n",
       "\n",
       "    .dataframe tbody tr th {\n",
       "        vertical-align: top;\n",
       "    }\n",
       "\n",
       "    .dataframe thead th {\n",
       "        text-align: right;\n",
       "    }\n",
       "</style>\n",
       "<table border=\"1\" class=\"dataframe\">\n",
       "  <thead>\n",
       "    <tr style=\"text-align: right;\">\n",
       "      <th></th>\n",
       "      <th>Distance from Residence to Work</th>\n",
       "      <th>Service time</th>\n",
       "      <th>Age</th>\n",
       "      <th>Work load Average/day</th>\n",
       "      <th>Weight</th>\n",
       "      <th>Height</th>\n",
       "      <th>Body mass index</th>\n",
       "    </tr>\n",
       "  </thead>\n",
       "  <tbody>\n",
       "    <tr>\n",
       "      <th>126</th>\n",
       "      <td>10</td>\n",
       "      <td>10</td>\n",
       "      <td>37</td>\n",
       "      <td>308.593</td>\n",
       "      <td>83</td>\n",
       "      <td>172</td>\n",
       "      <td>28</td>\n",
       "    </tr>\n",
       "    <tr>\n",
       "      <th>473</th>\n",
       "      <td>13</td>\n",
       "      <td>18</td>\n",
       "      <td>50</td>\n",
       "      <td>230.290</td>\n",
       "      <td>98</td>\n",
       "      <td>178</td>\n",
       "      <td>31</td>\n",
       "    </tr>\n",
       "    <tr>\n",
       "      <th>60</th>\n",
       "      <td>51</td>\n",
       "      <td>18</td>\n",
       "      <td>38</td>\n",
       "      <td>241.476</td>\n",
       "      <td>89</td>\n",
       "      <td>170</td>\n",
       "      <td>31</td>\n",
       "    </tr>\n",
       "    <tr>\n",
       "      <th>252</th>\n",
       "      <td>36</td>\n",
       "      <td>13</td>\n",
       "      <td>33</td>\n",
       "      <td>265.615</td>\n",
       "      <td>90</td>\n",
       "      <td>172</td>\n",
       "      <td>30</td>\n",
       "    </tr>\n",
       "    <tr>\n",
       "      <th>600</th>\n",
       "      <td>26</td>\n",
       "      <td>9</td>\n",
       "      <td>30</td>\n",
       "      <td>264.249</td>\n",
       "      <td>56</td>\n",
       "      <td>171</td>\n",
       "      <td>19</td>\n",
       "    </tr>\n",
       "  </tbody>\n",
       "</table>\n",
       "</div>"
      ],
      "text/plain": [
       "     Distance from Residence to Work  Service time  Age  \\\n",
       "126                               10            10   37   \n",
       "473                               13            18   50   \n",
       "60                                51            18   38   \n",
       "252                               36            13   33   \n",
       "600                               26             9   30   \n",
       "\n",
       "     Work load Average/day   Weight  Height  Body mass index  \n",
       "126                 308.593      83     172               28  \n",
       "473                 230.290      98     178               31  \n",
       "60                  241.476      89     170               31  \n",
       "252                 265.615      90     172               30  \n",
       "600                 264.249      56     171               19  "
      ]
     },
     "execution_count": 25,
     "metadata": {},
     "output_type": "execute_result"
    }
   ],
   "source": [
    "numeric_df.head()"
   ]
  },
  {
   "cell_type": "code",
   "execution_count": 26,
   "metadata": {},
   "outputs": [],
   "source": [
    "from sklearn.preprocessing import StandardScaler\n",
    "scaler = StandardScaler()\n",
    "scaled_numeric = scaler.fit_transform(numeric_df)"
   ]
  },
  {
   "cell_type": "markdown",
   "metadata": {},
   "source": [
    "## Now, to Pipelines!\n",
    "We've tested our transformers and are sure they are working. What we need to do now is string them together in a pipeline, and re-combine the various features.\n",
    "\n",
    "Without a pipeline, we would have had to do this by merging all or our new features. \n",
    "This is difficult, since after scaling, the numeric features are a matrix. The binary and categoric features are still dataframes.\n",
    "A pipeline, combined with another scikit-learn tool `make_union`, does all of this work for us."
   ]
  },
  {
   "cell_type": "code",
   "execution_count": 27,
   "metadata": {
    "collapsed": true
   },
   "outputs": [],
   "source": [
    "all_columns = list(features.columns)"
   ]
  },
  {
   "cell_type": "code",
   "execution_count": 28,
   "metadata": {},
   "outputs": [],
   "source": [
    "from sklearn.pipeline import make_pipeline, make_union\n",
    "\n",
    "# process the numeric and categorical columns.\n",
    "# then, join them all together.\n",
    "\n",
    "processing_pipeline = make_pipeline(\n",
    "    # If using make_union, then we HAVE to first select all the columns we will pull from.\n",
    "    ColumnSelector(all_columns),\n",
    "    make_union(\n",
    "        # First, we select and 'hold out' the binary variables, as we wont do any further work to them.\n",
    "        make_pipeline(ColumnSelector(binary_columns),\n",
    "        ),\n",
    "        # Pipeline for numeric features\n",
    "        make_pipeline(\n",
    "            ColumnSelector(numeric_columns),\n",
    "            StandardScaler()\n",
    "        ),\n",
    "        # Pipeline for label encoded features\n",
    "        make_pipeline(\n",
    "            ColumnSelector(label_encode_column),\n",
    "            OrdinalEncoder()\n",
    "        ),\n",
    "        \n",
    "        # Pipeline for one-hot-encoded features\n",
    "        make_pipeline(\n",
    "            ColumnSelector(one_hot_encode_column),\n",
    "            OneHotEncoder()\n",
    "        )\n",
    "    )\n",
    ")"
   ]
  },
  {
   "cell_type": "code",
   "execution_count": 29,
   "metadata": {},
   "outputs": [],
   "source": [
    "processed = processing_pipeline.fit_transform(features)"
   ]
  },
  {
   "cell_type": "markdown",
   "metadata": {},
   "source": [
    "#### Now, let's write a test to make sure that we didn't lose any data when we strung all of our transformers and estimators together."
   ]
  },
  {
   "cell_type": "code",
   "execution_count": 30,
   "metadata": {},
   "outputs": [
    {
     "name": "stdout",
     "output_type": "stream",
     "text": [
      "============================= test session starts ==============================\n",
      "platform darwin -- Python 3.6.3, pytest-3.2.1, py-1.4.34, pluggy-0.4.0\n",
      "rootdir: /Users/rachelberryman/Documents/DSR_Model_Pipelines_Course, inifile:\n",
      "collected 1 item\n",
      "\n",
      "1.3 Pipelines .py .\n",
      "\n",
      "=========================== 1 passed in 0.06 seconds ===========================\n"
     ]
    }
   ],
   "source": [
    "%%run_pytest[clean]\n",
    "\n",
    "def test_processingpipeline():\n",
    "    # remember, this first pipeline only acts on the features, not the target.\n",
    "    processed = processing_pipeline.fit_transform(features)\n",
    "    \n",
    "    # check for data leakage\n",
    "    assert features.shape[0] == processed.shape[0]\n"
   ]
  },
  {
   "cell_type": "markdown",
   "metadata": {},
   "source": [
    "### Finally, choosing the final estimator.\n",
    "We can use our estiamtor tests we wrote in the beginning of class, when we learned about tests."
   ]
  },
  {
   "cell_type": "code",
   "execution_count": 31,
   "metadata": {},
   "outputs": [],
   "source": [
    "from sklearn.metrics import mean_squared_error, mean_absolute_error, r2_score\n",
    "from sklearn.model_selection import cross_val_predict\n",
    "from sklearn.ensemble import RandomForestRegressor\n",
    "from math import sqrt\n",
    "import matplotlib.pyplot as plt"
   ]
  },
  {
   "cell_type": "code",
   "execution_count": 32,
   "metadata": {},
   "outputs": [],
   "source": [
    "# Fitting the pipeline\n",
    "finalpipeline = (make_pipeline(processing_pipeline, RandomForestRegressor(random_state=1, \n",
    "                                                                          n_jobs=-1, \n",
    "                                                                          n_estimators=100)))\n",
    "finalpipeline.fit(x_train, y_train)\n",
    "\n",
    "# Getting test and train predictions\n",
    "predictions = finalpipeline.predict(x_test)\n",
    "predictions_train = finalpipeline.predict(x_train)"
   ]
  },
  {
   "cell_type": "code",
   "execution_count": 33,
   "metadata": {
    "collapsed": true
   },
   "outputs": [],
   "source": [
    "def compare_predictions(x, y, finalpipeline, mean_target_value):\n",
    "    # generate predictions:\n",
    "    # Note: finalpipeline must have already been fit.\n",
    "    \n",
    "    predictions = finalpipeline.predict(x)\n",
    "    y = y.reset_index()\n",
    "    y.drop('index', axis=1, inplace=True)\n",
    "    \n",
    "    # a \"lazy prediction\" is where we return the average value of the target for every prediction.\n",
    "    lazy_predictions = np.full(predictions.shape, mean_absenteeism_time)\n",
    "    \n",
    "    final_predictions = pd.DataFrame(pd.concat([y, \n",
    "                                                pd.Series(predictions), \n",
    "                                                pd.Series(lazy_predictions)], axis=1))\n",
    "    final_predictions.rename(columns={'Absenteeism time in hours': 'True values',\n",
    "                                      0: 'Predicted values',\n",
    "                                      1: 'Lazy Predicted values'}, inplace=True)\n",
    "    \n",
    "    rmse_lazy = sqrt(mean_squared_error(y, lazy_predictions))\n",
    "    mae_lazy = mean_absolute_error(y, lazy_predictions)\n",
    "    r2_lazy = r2_score(y, lazy_predictions)\n",
    "    \n",
    "    rmse = sqrt(mean_squared_error(y, predictions))\n",
    "    mae = mean_absolute_error(y, predictions)\n",
    "    r2 = r2_score(y, predictions)\n",
    "    \n",
    "    print('RMSE Lazy Predictor', rmse_lazy)\n",
    "    print('MAE Lazy Predictor', mae_lazy)\n",
    "    print('R^2 Lazy Predictor', r2_lazy)\n",
    "    print()\n",
    "    print('RMSE', rmse)\n",
    "    print('MAE', mae)\n",
    "    print('R^2', r2)\n",
    "    print()\n",
    "    print('RMSE Improvement:', rmse_lazy - rmse)\n",
    "    print('MAE Inprovement:', mae_lazy - mae)\n",
    "    print('R^2 Improvement:', abs(r2_lazy - r2))\n",
    "    \n",
    "    \n",
    "    plt.figure(figsize=(20,10))\n",
    "\n",
    "    plt.plot(final_predictions.index, final_predictions['True values'], c='red', label='True Values')\n",
    "    # plot a second data series 'Short students' in blue using the last three elements of x and y \n",
    "    plt.plot(final_predictions.index, final_predictions['Predicted values'], c='blue', label='Predicted Values')\n",
    "    plt.plot(final_predictions.index, final_predictions['Lazy Predicted values'], c='black', label='Lazy Predicted Values')\n",
    "    plt.legend(loc='best')\n",
    "    plt.show()\n",
    "    return predictions"
   ]
  },
  {
   "cell_type": "markdown",
   "metadata": {},
   "source": [
    "## Looking at the results: Training and Testing Scores"
   ]
  },
  {
   "cell_type": "code",
   "execution_count": 34,
   "metadata": {},
   "outputs": [
    {
     "name": "stdout",
     "output_type": "stream",
     "text": [
      "RMSE Lazy Predictor 17.39060687943786\n",
      "MAE Lazy Predictor 7.584059770289155\n",
      "R^2 Lazy Predictor -9.971503794914405e-05\n",
      "\n",
      "RMSE 5.181797914913715\n",
      "MAE 2.362482192543127\n",
      "R^2 0.9112078091806689\n",
      "\n",
      "RMSE Improvement: 12.208808964524145\n",
      "MAE Inprovement: 5.221577577746028\n",
      "R^2 Improvement: 0.911307524218618\n"
     ]
    },
    {
     "data": {
      "image/png": "[encoded data removed]",
      "text/plain": [
       "<matplotlib.figure.Figure at 0x1170be2e8>"
      ]
     },
     "metadata": {},
     "output_type": "display_data"
    }
   ],
   "source": [
    "predictions_train = compare_predictions(x_train, y_train, finalpipeline, mean_absenteeism_time)"
   ]
  },
  {
   "cell_type": "code",
   "execution_count": 35,
   "metadata": {},
   "outputs": [
    {
     "name": "stdout",
     "output_type": "stream",
     "text": [
      "RMSE Lazy Predictor 15.287838787306207\n",
      "MAE Lazy Predictor 6.864085447263014\n",
      "R^2 Lazy Predictor -0.002061675079011893\n",
      "\n",
      "RMSE 9.31674570875392\n",
      "MAE 4.806525925925926\n",
      "R^2 0.6278390962416407\n",
      "\n",
      "RMSE Improvement: 5.971093078552286\n",
      "MAE Inprovement: 2.0575595213370885\n",
      "R^2 Improvement: 0.6299007713206526\n"
     ]
    },
    {
     "data": {
      "image/png": "[encoded data removed]",
      "text/plain": [
       "<matplotlib.figure.Figure at 0x11757b198>"
      ]
     },
     "metadata": {},
     "output_type": "display_data"
    }
   ],
   "source": [
    "predictions_test = compare_predictions(x_test, y_test, finalpipeline, mean_absenteeism_time)"
   ]
  },
  {
   "cell_type": "markdown",
   "metadata": {},
   "source": [
    "## How can we improve our predictions?\n",
    "#### Going back to exploration.\n",
    "We use pipelines to GridSearch over hyperparameters and choose a better model. "
   ]
  },
  {
   "cell_type": "markdown",
   "metadata": {},
   "source": [
    "Grid search\n",
    "--------------------------\n",
    "\n",
    "Scikit-learn has `GridSearchCV` and `RandomizedSearchCV`. Both have the same functionality and can be used to find optimal hyperparameters for sk-learn models. What is great about both these classes that they are both transformers - *they return an estimator so you can chain them and put in your pipeline*!\n",
    "\n",
    "**GridSearchCV** - you specify the exact values of the parameters you want to test. <br>\n",
    "**RandomizedSearchCV** - you specify ranges of parameters\n",
    "\n",
    "In contrast to GridSearchCV, not all parameter values are tried out, but rather a fixed number of parameter settings is sampled from the specified distributions. The number of parameter settings that are tried is given by n_iter.\n",
    "\n",
    "Exercise\n",
    "----------------------\n",
    "\n",
    "1. Use `GridSearchCV` or `RandomizedSearchCV` to find the best parameters for the models. Check at least 2 parameters.\n",
    "\n",
    "2. Inspect the attribute `cv_results_` after fitting. It gives a nice representation of the learning."
   ]
  },
  {
   "cell_type": "code",
   "execution_count": 41,
   "metadata": {},
   "outputs": [
    {
     "name": "stdout",
     "output_type": "stream",
     "text": [
      "{'randomforestregressor__n_estimators': [100, 500, 1000, 2000], 'randomforestregressor__max_features': [5, 10, 'sqrt'], 'randomforestregressor__max_depth': [5, 40, 75, 110, None]}\n"
     ]
    }
   ],
   "source": [
    "# Number of trees in random forest\n",
    "n_estimators = [100, 500, 1000]\n",
    "# Number of features to consider at every split\n",
    "max_features = [5, 10, 'sqrt']\n",
    "# Maximum number of levels in tree\n",
    "max_depth = [int(x) for x in np.linspace(5, 110, num = 4)]\n",
    "max_depth.append(None)\n",
    "\n",
    "# Create the random grid\n",
    "random_grid = {'randomforestregressor__n_estimators': n_estimators,\n",
    "               'randomforestregressor__max_features': max_features,\n",
    "               'randomforestregressor__max_depth': max_depth,\n",
    "              }\n",
    "\n",
    "print(random_grid)"
   ]
  },
  {
   "cell_type": "code",
   "execution_count": 42,
   "metadata": {
    "collapsed": true
   },
   "outputs": [],
   "source": [
    "from sklearn.grid_search import GridSearchCV, RandomizedSearchCV"
   ]
  },
  {
   "cell_type": "markdown",
   "metadata": {},
   "source": [
    "We are using the MAE score as the criteria for which model is \"best\". <br>\n",
    "For information about MAE vs. RMSE vs. R^2, you can read [here](https://medium.com/usf-msds/choosing-the-right-metric-for-machine-learning-models-part-1-a99d7d7414e4).<br>\n",
    "[This list](http://scikit-learn.org/stable/modules/model_evaluation.html#scoring-parameter) shows the string names of each scoring metric to use when setting it in GridSearchCV and RandomSearchCV."
   ]
  },
  {
   "cell_type": "code",
   "execution_count": 43,
   "metadata": {},
   "outputs": [
    {
     "name": "stdout",
     "output_type": "stream",
     "text": [
      "Grid search\n",
      "\n",
      "\n",
      "Fitting 3 folds for each of 60 candidates, totalling 180 fits\n"
     ]
    },
    {
     "name": "stderr",
     "output_type": "stream",
     "text": [
      "[Parallel(n_jobs=-1)]: Done  42 tasks      | elapsed:   18.1s\n",
      "[Parallel(n_jobs=-1)]: Done 180 out of 180 | elapsed:  1.6min finished\n"
     ]
    }
   ],
   "source": [
    "print(\"Grid search\")\n",
    "print('\\n')\n",
    "\n",
    "params = random_grid\n",
    "scoring = 'neg_mean_absolute_error'\n",
    "clf = GridSearchCV(finalpipeline, params, n_jobs=-1, verbose=True, scoring=scoring)\n",
    "clf.fit(x_train, y_train)\n",
    "\n",
    "clf_preds = clf.predict(x_test)\n",
    "clf_preds = pd.Series(clf_preds)\n",
    "clf_preds = clf_preds.rename(\"Grid Search Predicted values\")\n",
    "\n",
    "best_params = sorted(clf.grid_scores_, key=lambda x: -x[1])\n"
   ]
  },
  {
   "cell_type": "code",
   "execution_count": 44,
   "metadata": {},
   "outputs": [
    {
     "data": {
      "text/plain": [
       "[mean: -6.49549, std: 0.17173, params: {'randomforestregressor__max_depth': 40, 'randomforestregressor__max_features': 5, 'randomforestregressor__n_estimators': 1000},\n",
       " mean: -6.49549, std: 0.17173, params: {'randomforestregressor__max_depth': 40, 'randomforestregressor__max_features': 'sqrt', 'randomforestregressor__n_estimators': 1000},\n",
       " mean: -6.49549, std: 0.17173, params: {'randomforestregressor__max_depth': 75, 'randomforestregressor__max_features': 5, 'randomforestregressor__n_estimators': 1000},\n",
       " mean: -6.49549, std: 0.17173, params: {'randomforestregressor__max_depth': 75, 'randomforestregressor__max_features': 'sqrt', 'randomforestregressor__n_estimators': 1000},\n",
       " mean: -6.49549, std: 0.17173, params: {'randomforestregressor__max_depth': 110, 'randomforestregressor__max_features': 5, 'randomforestregressor__n_estimators': 1000},\n",
       " mean: -6.49549, std: 0.17173, params: {'randomforestregressor__max_depth': 110, 'randomforestregressor__max_features': 'sqrt', 'randomforestregressor__n_estimators': 1000},\n",
       " mean: -6.49549, std: 0.17173, params: {'randomforestregressor__max_depth': None, 'randomforestregressor__max_features': 5, 'randomforestregressor__n_estimators': 1000},\n",
       " mean: -6.49549, std: 0.17173, params: {'randomforestregressor__max_depth': None, 'randomforestregressor__max_features': 'sqrt', 'randomforestregressor__n_estimators': 1000},\n",
       " mean: -6.49806, std: 0.14495, params: {'randomforestregressor__max_depth': 40, 'randomforestregressor__max_features': 10, 'randomforestregressor__n_estimators': 500},\n",
       " mean: -6.49806, std: 0.14495, params: {'randomforestregressor__max_depth': 75, 'randomforestregressor__max_features': 10, 'randomforestregressor__n_estimators': 500},\n",
       " mean: -6.49806, std: 0.14495, params: {'randomforestregressor__max_depth': 110, 'randomforestregressor__max_features': 10, 'randomforestregressor__n_estimators': 500},\n",
       " mean: -6.49806, std: 0.14495, params: {'randomforestregressor__max_depth': None, 'randomforestregressor__max_features': 10, 'randomforestregressor__n_estimators': 500},\n",
       " mean: -6.50258, std: 0.17859, params: {'randomforestregressor__max_depth': 40, 'randomforestregressor__max_features': 5, 'randomforestregressor__n_estimators': 2000},\n",
       " mean: -6.50258, std: 0.17859, params: {'randomforestregressor__max_depth': 40, 'randomforestregressor__max_features': 'sqrt', 'randomforestregressor__n_estimators': 2000},\n",
       " mean: -6.50258, std: 0.17859, params: {'randomforestregressor__max_depth': 75, 'randomforestregressor__max_features': 5, 'randomforestregressor__n_estimators': 2000},\n",
       " mean: -6.50258, std: 0.17859, params: {'randomforestregressor__max_depth': 75, 'randomforestregressor__max_features': 'sqrt', 'randomforestregressor__n_estimators': 2000},\n",
       " mean: -6.50258, std: 0.17859, params: {'randomforestregressor__max_depth': 110, 'randomforestregressor__max_features': 5, 'randomforestregressor__n_estimators': 2000},\n",
       " mean: -6.50258, std: 0.17859, params: {'randomforestregressor__max_depth': 110, 'randomforestregressor__max_features': 'sqrt', 'randomforestregressor__n_estimators': 2000},\n",
       " mean: -6.50258, std: 0.17859, params: {'randomforestregressor__max_depth': None, 'randomforestregressor__max_features': 5, 'randomforestregressor__n_estimators': 2000},\n",
       " mean: -6.50258, std: 0.17859, params: {'randomforestregressor__max_depth': None, 'randomforestregressor__max_features': 'sqrt', 'randomforestregressor__n_estimators': 2000},\n",
       " mean: -6.50289, std: 0.19674, params: {'randomforestregressor__max_depth': 40, 'randomforestregressor__max_features': 5, 'randomforestregressor__n_estimators': 500},\n",
       " mean: -6.50289, std: 0.19674, params: {'randomforestregressor__max_depth': 40, 'randomforestregressor__max_features': 'sqrt', 'randomforestregressor__n_estimators': 500},\n",
       " mean: -6.50289, std: 0.19674, params: {'randomforestregressor__max_depth': 75, 'randomforestregressor__max_features': 5, 'randomforestregressor__n_estimators': 500},\n",
       " mean: -6.50289, std: 0.19674, params: {'randomforestregressor__max_depth': 75, 'randomforestregressor__max_features': 'sqrt', 'randomforestregressor__n_estimators': 500},\n",
       " mean: -6.50289, std: 0.19674, params: {'randomforestregressor__max_depth': 110, 'randomforestregressor__max_features': 5, 'randomforestregressor__n_estimators': 500},\n",
       " mean: -6.50289, std: 0.19674, params: {'randomforestregressor__max_depth': 110, 'randomforestregressor__max_features': 'sqrt', 'randomforestregressor__n_estimators': 500},\n",
       " mean: -6.50289, std: 0.19674, params: {'randomforestregressor__max_depth': None, 'randomforestregressor__max_features': 5, 'randomforestregressor__n_estimators': 500},\n",
       " mean: -6.50289, std: 0.19674, params: {'randomforestregressor__max_depth': None, 'randomforestregressor__max_features': 'sqrt', 'randomforestregressor__n_estimators': 500},\n",
       " mean: -6.51433, std: 0.13664, params: {'randomforestregressor__max_depth': 40, 'randomforestregressor__max_features': 10, 'randomforestregressor__n_estimators': 1000},\n",
       " mean: -6.51433, std: 0.13664, params: {'randomforestregressor__max_depth': 75, 'randomforestregressor__max_features': 10, 'randomforestregressor__n_estimators': 1000},\n",
       " mean: -6.51433, std: 0.13664, params: {'randomforestregressor__max_depth': 110, 'randomforestregressor__max_features': 10, 'randomforestregressor__n_estimators': 1000},\n",
       " mean: -6.51433, std: 0.13664, params: {'randomforestregressor__max_depth': None, 'randomforestregressor__max_features': 10, 'randomforestregressor__n_estimators': 1000},\n",
       " mean: -6.52628, std: 0.14022, params: {'randomforestregressor__max_depth': 40, 'randomforestregressor__max_features': 10, 'randomforestregressor__n_estimators': 2000},\n",
       " mean: -6.52628, std: 0.14022, params: {'randomforestregressor__max_depth': 75, 'randomforestregressor__max_features': 10, 'randomforestregressor__n_estimators': 2000},\n",
       " mean: -6.52628, std: 0.14022, params: {'randomforestregressor__max_depth': 110, 'randomforestregressor__max_features': 10, 'randomforestregressor__n_estimators': 2000},\n",
       " mean: -6.52628, std: 0.14022, params: {'randomforestregressor__max_depth': None, 'randomforestregressor__max_features': 10, 'randomforestregressor__n_estimators': 2000},\n",
       " mean: -6.55030, std: 0.16535, params: {'randomforestregressor__max_depth': 40, 'randomforestregressor__max_features': 5, 'randomforestregressor__n_estimators': 100},\n",
       " mean: -6.55030, std: 0.16535, params: {'randomforestregressor__max_depth': 40, 'randomforestregressor__max_features': 'sqrt', 'randomforestregressor__n_estimators': 100},\n",
       " mean: -6.55030, std: 0.16535, params: {'randomforestregressor__max_depth': 75, 'randomforestregressor__max_features': 5, 'randomforestregressor__n_estimators': 100},\n",
       " mean: -6.55030, std: 0.16535, params: {'randomforestregressor__max_depth': 75, 'randomforestregressor__max_features': 'sqrt', 'randomforestregressor__n_estimators': 100},\n",
       " mean: -6.55030, std: 0.16535, params: {'randomforestregressor__max_depth': 110, 'randomforestregressor__max_features': 5, 'randomforestregressor__n_estimators': 100},\n",
       " mean: -6.55030, std: 0.16535, params: {'randomforestregressor__max_depth': 110, 'randomforestregressor__max_features': 'sqrt', 'randomforestregressor__n_estimators': 100},\n",
       " mean: -6.55030, std: 0.16535, params: {'randomforestregressor__max_depth': None, 'randomforestregressor__max_features': 5, 'randomforestregressor__n_estimators': 100},\n",
       " mean: -6.55030, std: 0.16535, params: {'randomforestregressor__max_depth': None, 'randomforestregressor__max_features': 'sqrt', 'randomforestregressor__n_estimators': 100},\n",
       " mean: -6.67115, std: 0.01747, params: {'randomforestregressor__max_depth': 40, 'randomforestregressor__max_features': 10, 'randomforestregressor__n_estimators': 100},\n",
       " mean: -6.67115, std: 0.01747, params: {'randomforestregressor__max_depth': 75, 'randomforestregressor__max_features': 10, 'randomforestregressor__n_estimators': 100},\n",
       " mean: -6.67115, std: 0.01747, params: {'randomforestregressor__max_depth': 110, 'randomforestregressor__max_features': 10, 'randomforestregressor__n_estimators': 100},\n",
       " mean: -6.67115, std: 0.01747, params: {'randomforestregressor__max_depth': None, 'randomforestregressor__max_features': 10, 'randomforestregressor__n_estimators': 100},\n",
       " mean: -6.94890, std: 0.13669, params: {'randomforestregressor__max_depth': 5, 'randomforestregressor__max_features': 10, 'randomforestregressor__n_estimators': 500},\n",
       " mean: -6.97238, std: 0.14617, params: {'randomforestregressor__max_depth': 5, 'randomforestregressor__max_features': 10, 'randomforestregressor__n_estimators': 1000},\n",
       " mean: -6.97785, std: 0.09405, params: {'randomforestregressor__max_depth': 5, 'randomforestregressor__max_features': 10, 'randomforestregressor__n_estimators': 2000},\n",
       " mean: -7.06658, std: 0.10380, params: {'randomforestregressor__max_depth': 5, 'randomforestregressor__max_features': 5, 'randomforestregressor__n_estimators': 500},\n",
       " mean: -7.06658, std: 0.10380, params: {'randomforestregressor__max_depth': 5, 'randomforestregressor__max_features': 'sqrt', 'randomforestregressor__n_estimators': 500},\n",
       " mean: -7.08166, std: 0.10251, params: {'randomforestregressor__max_depth': 5, 'randomforestregressor__max_features': 5, 'randomforestregressor__n_estimators': 1000},\n",
       " mean: -7.08166, std: 0.10251, params: {'randomforestregressor__max_depth': 5, 'randomforestregressor__max_features': 'sqrt', 'randomforestregressor__n_estimators': 1000},\n",
       " mean: -7.10541, std: 0.07563, params: {'randomforestregressor__max_depth': 5, 'randomforestregressor__max_features': 5, 'randomforestregressor__n_estimators': 2000},\n",
       " mean: -7.10541, std: 0.07563, params: {'randomforestregressor__max_depth': 5, 'randomforestregressor__max_features': 'sqrt', 'randomforestregressor__n_estimators': 2000},\n",
       " mean: -7.14298, std: 0.20450, params: {'randomforestregressor__max_depth': 5, 'randomforestregressor__max_features': 10, 'randomforestregressor__n_estimators': 100},\n",
       " mean: -7.18519, std: 0.13846, params: {'randomforestregressor__max_depth': 5, 'randomforestregressor__max_features': 5, 'randomforestregressor__n_estimators': 100},\n",
       " mean: -7.18519, std: 0.13846, params: {'randomforestregressor__max_depth': 5, 'randomforestregressor__max_features': 'sqrt', 'randomforestregressor__n_estimators': 100}]"
      ]
     },
     "execution_count": 44,
     "metadata": {},
     "output_type": "execute_result"
    }
   ],
   "source": [
    "best_params"
   ]
  },
  {
   "cell_type": "markdown",
   "metadata": {},
   "source": [
    "### Plotting predictions made from the best GridSearchCV model:"
   ]
  },
  {
   "cell_type": "code",
   "execution_count": 45,
   "metadata": {},
   "outputs": [
    {
     "name": "stdout",
     "output_type": "stream",
     "text": [
      "RMSE Lazy Predictor 15.287838787306207\n",
      "MAE Lazy Predictor 6.864085447263014\n",
      "R^2 Lazy Predictor -0.002061675079011893\n",
      "\n",
      "RMSE 9.472362673356464\n",
      "MAE 5.168820307118807\n",
      "R^2 0.6153029117428729\n",
      "\n",
      "RMSE Improvement: 5.815476113949742\n",
      "MAE Inprovement: 1.6952651401442074\n",
      "R^2 Improvement: 0.6173645868218848\n"
     ]
    },
    {
     "data": {
      "image/png": "[encoded data removed]",
      "text/plain": [
       "<matplotlib.figure.Figure at 0x1175c26d8>"
      ]
     },
     "metadata": {},
     "output_type": "display_data"
    }
   ],
   "source": [
    "gridsearch_predictions = compare_predictions(x_test, y_test, clf, mean_absenteeism_time)"
   ]
  },
  {
   "cell_type": "markdown",
   "metadata": {},
   "source": [
    "# Exercise part 2: \n",
    "We have now grid searched over parameters, but not seen a very significant improvement.\n",
    "Your challenge now is to improve the performance of the model.\n",
    "\n",
    "Think about...\n",
    "- Trying different regression estimators\n",
    "- Feature Engineering\n",
    "\n",
    "Rules:\n",
    "- NO changing the random seeds! :) \n",
    "- Every transformer you write MUST have a test!\n",
    "- Must use pipelines/feature unions."
   ]
  },
  {
   "cell_type": "code",
   "execution_count": null,
   "metadata": {
    "collapsed": true
   },
   "outputs": [],
   "source": []
  },
  {
   "cell_type": "code",
   "execution_count": null,
   "metadata": {
    "collapsed": true
   },
   "outputs": [],
   "source": []
  }
 ],
 "metadata": {
  "kernelspec": {
   "display_name": "Python 3",
   "language": "python",
   "name": "python3"
  },
  "language_info": {
   "codemirror_mode": {
    "name": "ipython",
    "version": 3
   },
   "file_extension": ".py",
   "mimetype": "text/x-python",
   "name": "python",
   "nbconvert_exporter": "python",
   "pygments_lexer": "ipython3",
   "version": "3.6.3"
  }
 },
 "nbformat": 4,
 "nbformat_minor": 2
}
