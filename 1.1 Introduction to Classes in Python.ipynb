{
 "cells": [
  {
   "cell_type": "markdown",
   "metadata": {},
   "source": [
    "# 1.0: Introduction to Classes in Python\n",
    "\n",
    "Much of the theoretical background for this notebook came from [Think Python: Thinking Like A Computer Scientist](https://www.amazon.com/Think-Python-Like-Computer-Scientist/dp/1491939362/ref=dp_ob_title_bk).\n",
    "If you struggle a bit with the theoretical base of object-oriented programming, then I really recommend going through this book."
   ]
  },
  {
   "cell_type": "markdown",
   "metadata": {},
   "source": [
    "A Class in Python is a <b> user-defined type</b>.  "
   ]
  },
  {
   "cell_type": "markdown",
   "metadata": {},
   "source": [
    "One of the best ways to think about python classes is a <i> Factory</i> for something you want to make. <br>\n",
    "The output of the class can have different attributes, which can be changed and created within the class."
   ]
  },
  {
   "cell_type": "markdown",
   "metadata": {},
   "source": [
    "## Example: Dog \"factory\".\n",
    "We know of built-in types, such as lists, dictionaries, floats, and integers. <br>\n",
    "Classes let us make our own types when they don't exist. <br>\n",
    "**The objects we use daily are actually classes under the hood** <br>\n",
    "Ex: any type that is from an imported Python package, like pandas DataFrames and numpy arrays.\n",
    "\n",
    "When writing a Class, the questions we should ask ourselves are:\n",
    "1. What is my desired output?\n",
    "2. What inputs are needed?\n",
    "3. What functions are needed to get me from my inputs to my desired output?\n",
    "\n",
    "Obviously, we know that \"Dog\" is not a built-in type in python.\n",
    "But, if a \"Dog\" is something we want to be able to re-create, with various attributes, we can make it ourselves!"
   ]
  },
  {
   "cell_type": "code",
   "execution_count": 46,
   "metadata": {
    "collapsed": true
   },
   "outputs": [],
   "source": [
    "def go_home():\n",
    "    home = True\n",
    "    return home"
   ]
  },
  {
   "cell_type": "code",
   "execution_count": 47,
   "metadata": {
    "collapsed": true
   },
   "outputs": [],
   "source": [
    "# by convention, class names are CapitalizedWithNoUnderscores. \n",
    "class Dog():\n",
    "    # the \"__init__\" function is where you \"initialize\" attributes of a class\n",
    "    def __init__(self):\n",
    "        self.legs = True\n",
    "        self.collar = True\n",
    "        self.loyal = True\n",
    "        self.fetch = False\n",
    "        self.home = go_home()\n",
    "        \n",
    "    def train(self):\n",
    "        # functions can act on attributes of the class\n",
    "        # you don't have to send in attributes to the function, as they are already contained in the class.\n",
    "        self.fetch = True"
   ]
  },
  {
   "cell_type": "markdown",
   "metadata": {},
   "source": [
    "**\"Instantiating\" a Class = making an \"instance\" of the self you initiatlized in the class.** <br>\n",
    "Because *every object is an instance of a class*, you can also call every instance an object. This is still correct. <br>\n",
    "This instance will have all the attributes you instantiated.<br>\n",
    "\n",
    "When we write: `df = pd.DataFrame()`, we are *instantiating* df as an *instance* of the class, DataFrame! "
   ]
  },
  {
   "cell_type": "markdown",
   "metadata": {},
   "source": [
    "Let's make some instances of the class."
   ]
  },
  {
   "cell_type": "code",
   "execution_count": 48,
   "metadata": {
    "collapsed": true
   },
   "outputs": [],
   "source": [
    "dog1 = Dog()\n",
    "\n",
    "dog2 = Dog()"
   ]
  },
  {
   "cell_type": "markdown",
   "metadata": {},
   "source": [
    "We haven't defined the \"go home\" function. What happens when we call the attribute, \"home\", which calls this function?"
   ]
  },
  {
   "cell_type": "code",
   "execution_count": 49,
   "metadata": {},
   "outputs": [
    {
     "data": {
      "text/plain": [
       "True"
      ]
     },
     "execution_count": 49,
     "metadata": {},
     "output_type": "execute_result"
    }
   ],
   "source": [
    "dog1.home"
   ]
  },
  {
   "cell_type": "code",
   "execution_count": 51,
   "metadata": {
    "scrolled": true
   },
   "outputs": [
    {
     "data": {
      "text/plain": [
       "False"
      ]
     },
     "execution_count": 51,
     "metadata": {},
     "output_type": "execute_result"
    }
   ],
   "source": [
    "dog2.fetch"
   ]
  },
  {
   "cell_type": "code",
   "execution_count": 52,
   "metadata": {},
   "outputs": [
    {
     "data": {
      "text/plain": [
       "['__class__',\n",
       " '__delattr__',\n",
       " '__dict__',\n",
       " '__dir__',\n",
       " '__doc__',\n",
       " '__eq__',\n",
       " '__format__',\n",
       " '__ge__',\n",
       " '__getattribute__',\n",
       " '__gt__',\n",
       " '__hash__',\n",
       " '__init__',\n",
       " '__init_subclass__',\n",
       " '__le__',\n",
       " '__lt__',\n",
       " '__module__',\n",
       " '__ne__',\n",
       " '__new__',\n",
       " '__reduce__',\n",
       " '__reduce_ex__',\n",
       " '__repr__',\n",
       " '__setattr__',\n",
       " '__sizeof__',\n",
       " '__str__',\n",
       " '__subclasshook__',\n",
       " '__weakref__',\n",
       " 'collar',\n",
       " 'fetch',\n",
       " 'home',\n",
       " 'legs',\n",
       " 'loyal',\n",
       " 'train']"
      ]
     },
     "execution_count": 52,
     "metadata": {},
     "output_type": "execute_result"
    }
   ],
   "source": [
    "dir(Dog())"
   ]
  },
  {
   "cell_type": "markdown",
   "metadata": {},
   "source": [
    "We can also define new attributes explicitly on each instance of the class."
   ]
  },
  {
   "cell_type": "code",
   "execution_count": 7,
   "metadata": {
    "collapsed": true
   },
   "outputs": [],
   "source": [
    "dog2.name = 'Lilly'"
   ]
  },
  {
   "cell_type": "code",
   "execution_count": 8,
   "metadata": {},
   "outputs": [
    {
     "data": {
      "text/plain": [
       "'Lilly'"
      ]
     },
     "execution_count": 8,
     "metadata": {},
     "output_type": "execute_result"
    }
   ],
   "source": [
    "dog2.name"
   ]
  },
  {
   "cell_type": "markdown",
   "metadata": {},
   "source": [
    "For the other instance, where we haven't defined this attribute by hand, it doesn't exist. This is because it isn't a built-in attribute in the class."
   ]
  },
  {
   "cell_type": "code",
   "execution_count": 10,
   "metadata": {},
   "outputs": [
    {
     "ename": "AttributeError",
     "evalue": "'Dog' object has no attribute 'name'",
     "output_type": "error",
     "traceback": [
      "\u001b[0;31m---------------------------------------------------------------------------\u001b[0m",
      "\u001b[0;31mAttributeError\u001b[0m                            Traceback (most recent call last)",
      "\u001b[0;32m<ipython-input-10-e17beaf315bc>\u001b[0m in \u001b[0;36m<module>\u001b[0;34m()\u001b[0m\n\u001b[0;32m----> 1\u001b[0;31m \u001b[0mdog1\u001b[0m\u001b[0;34m.\u001b[0m\u001b[0mname\u001b[0m\u001b[0;34m\u001b[0m\u001b[0m\n\u001b[0m",
      "\u001b[0;31mAttributeError\u001b[0m: 'Dog' object has no attribute 'name'"
     ]
    }
   ],
   "source": [
    "dog1.name"
   ]
  },
  {
   "cell_type": "markdown",
   "metadata": {},
   "source": [
    "By \"training\" our Dog, dog_1 (an instance of the dog class), we change its ability to fetch."
   ]
  },
  {
   "cell_type": "code",
   "execution_count": 11,
   "metadata": {
    "collapsed": true
   },
   "outputs": [],
   "source": [
    "dog1.train()"
   ]
  },
  {
   "cell_type": "code",
   "execution_count": 12,
   "metadata": {},
   "outputs": [
    {
     "data": {
      "text/plain": [
       "True"
      ]
     },
     "execution_count": 12,
     "metadata": {},
     "output_type": "execute_result"
    }
   ],
   "source": [
    "dog1.fetch"
   ]
  },
  {
   "cell_type": "code",
   "execution_count": 13,
   "metadata": {},
   "outputs": [
    {
     "data": {
      "text/plain": [
       "False"
      ]
     },
     "execution_count": 13,
     "metadata": {},
     "output_type": "execute_result"
    }
   ],
   "source": [
    "dog2.fetch"
   ]
  },
  {
   "cell_type": "code",
   "execution_count": 15,
   "metadata": {},
   "outputs": [
    {
     "data": {
      "text/plain": [
       "True"
      ]
     },
     "execution_count": 15,
     "metadata": {},
     "output_type": "execute_result"
    }
   ],
   "source": [
    "dog1.train()\n",
    "dog1.fetch"
   ]
  },
  {
   "cell_type": "markdown",
   "metadata": {},
   "source": [
    "You can also add arguments, and instantiate them as **attributes**. <br>\n",
    "Attributes are *values assigned to names elements of an object*. "
   ]
  },
  {
   "cell_type": "code",
   "execution_count": 19,
   "metadata": {
    "collapsed": true
   },
   "outputs": [],
   "source": [
    "class Dog():\n",
    "    \"\"\"Represents a pet, with 4 legs and fur.\n",
    "    \"\"\"\n",
    "    def __init__(self,\n",
    "                 name='Bello',\n",
    "                 age=2):\n",
    "        self.fetch = False\n",
    "        \n",
    "        # initializing name argument as the attribute.\n",
    "        self.name = name\n",
    "        self.age = age\n",
    "        \n",
    "    def train(self):\n",
    "        self.fetch = True\n"
   ]
  },
  {
   "cell_type": "code",
   "execution_count": 20,
   "metadata": {
    "collapsed": true
   },
   "outputs": [],
   "source": [
    "dog_3 = Dog()"
   ]
  },
  {
   "cell_type": "code",
   "execution_count": 21,
   "metadata": {},
   "outputs": [
    {
     "data": {
      "text/plain": [
       "'Bello'"
      ]
     },
     "execution_count": 21,
     "metadata": {},
     "output_type": "execute_result"
    }
   ],
   "source": [
    "dog_3.name"
   ]
  },
  {
   "cell_type": "code",
   "execution_count": 22,
   "metadata": {},
   "outputs": [
    {
     "data": {
      "text/plain": [
       "2"
      ]
     },
     "execution_count": 22,
     "metadata": {},
     "output_type": "execute_result"
    }
   ],
   "source": [
    "dog_3.age"
   ]
  },
  {
   "cell_type": "code",
   "execution_count": 24,
   "metadata": {
    "collapsed": true
   },
   "outputs": [],
   "source": [
    "dog_4 = Dog(age=4, name='George')"
   ]
  },
  {
   "cell_type": "code",
   "execution_count": 25,
   "metadata": {
    "collapsed": true
   },
   "outputs": [],
   "source": [
    "dog_5 = Dog('Maggie', 6)"
   ]
  },
  {
   "cell_type": "code",
   "execution_count": 17,
   "metadata": {},
   "outputs": [
    {
     "data": {
      "text/plain": [
       "'Rover'"
      ]
     },
     "execution_count": 17,
     "metadata": {},
     "output_type": "execute_result"
    }
   ],
   "source": [
    "dog_1 = Dog('Rover')\n",
    "dog_1.name"
   ]
  },
  {
   "cell_type": "code",
   "execution_count": 18,
   "metadata": {},
   "outputs": [
    {
     "data": {
      "text/plain": [
       "'Rover'"
      ]
     },
     "execution_count": 18,
     "metadata": {},
     "output_type": "execute_result"
    }
   ],
   "source": [
    "dog_1 = Dog(name='Rover')\n",
    "dog_1.name"
   ]
  },
  {
   "cell_type": "markdown",
   "metadata": {},
   "source": [
    "Objects (instances) are **mutable**. This means that you can change them by making a new assignement to their attributes."
   ]
  },
  {
   "cell_type": "code",
   "execution_count": 26,
   "metadata": {},
   "outputs": [
    {
     "data": {
      "text/plain": [
       "'Maggie'"
      ]
     },
     "execution_count": 26,
     "metadata": {},
     "output_type": "execute_result"
    }
   ],
   "source": [
    "dog_1.name = 'Maggie'\n",
    "# the object has stayed the same. We have simple re-assigned the value of its 'name' attribute.\n",
    "dog_1.name"
   ]
  },
  {
   "cell_type": "markdown",
   "metadata": {},
   "source": [
    "You can also return instances (of other classes) from functions. <br>\n",
    "For example, we will define a new class called Animal that holds attributes of *all* animals, not just dogs.\n",
    "We can then return an instance of that class as the name of our Dog.\n"
   ]
  },
  {
   "cell_type": "code",
   "execution_count": 34,
   "metadata": {
    "collapsed": true
   },
   "outputs": [],
   "source": [
    "class Animal():\n",
    "    \"\"\"A living, non-human mammal.\n",
    "    Attributes shown are attributes of all animals.\n",
    "    \"\"\"\n",
    "    def __init__(self):\n",
    "        \n",
    "        self.full = 'No'\n",
    "        self.happy = False\n",
    "    \n",
    "    def feed(self):\n",
    "        self.full = True\n",
    "    \n",
    "    def sleep(self):\n",
    "        self.happy = True\n",
    "                \n",
    "        "
   ]
  },
  {
   "cell_type": "markdown",
   "metadata": {},
   "source": [
    "Now, we update the *Dog* Class to return an instance of the Animal class as whether our dog has been fed."
   ]
  },
  {
   "cell_type": "code",
   "execution_count": 28,
   "metadata": {
    "collapsed": true
   },
   "outputs": [],
   "source": [
    "class Dog():\n",
    "    \"\"\"Represents a pet, with 4 legs and fur.\n",
    "    \"\"\"\n",
    "    def __init__(self,\n",
    "                 name):\n",
    "        \n",
    "        self.fetch = False\n",
    "        self.name = name\n",
    "        \n",
    "        # you can also call functions to initiate attributes in your __init__ statement.\n",
    "        self.full = self.check_if_full()\n",
    "        \n",
    "    def train(self):\n",
    "        self.fetch = True\n",
    "    \n",
    "    def check_if_full(self):\n",
    "        living_thing = Animal()\n",
    "        return living_thing.full"
   ]
  },
  {
   "cell_type": "code",
   "execution_count": 29,
   "metadata": {},
   "outputs": [
    {
     "data": {
      "text/plain": [
       "False"
      ]
     },
     "execution_count": 29,
     "metadata": {},
     "output_type": "execute_result"
    }
   ],
   "source": [
    "dog_1 = Dog('Maggie')\n",
    "dog_1.full"
   ]
  },
  {
   "cell_type": "markdown",
   "metadata": {},
   "source": [
    "Returning instances of other classes as an output of a function has its limitations. For example, here, we can only see the initial status of the Animal class. \n",
    "\n",
    "A much better way to interact with other related classes is through **Inheritance**. When you **inherit** from what becomes the **parent class**, your class gains all of the functions of the parent class.\n",
    "This also saves time, and lets you focus on adding the additional attributes you need."
   ]
  },
  {
   "cell_type": "markdown",
   "metadata": {},
   "source": [
    "Now, we don't need to write our own function. We can use the ones from the animal class.\n",
    "Also, all of the attributs of the aminal class are now also contained within Dog"
   ]
  },
  {
   "cell_type": "code",
   "execution_count": 35,
   "metadata": {
    "collapsed": true
   },
   "outputs": [],
   "source": [
    "# Inhereited Classes go at the top, with the initial class definition:\n",
    "class Dog(Animal):\n",
    "    \"\"\"Represents a pet, with 4 legs and fur.\n",
    "    A dog is also an animal.\n",
    "    \"\"\"\n",
    "    def __init__(self,\n",
    "                 name):\n",
    "        \n",
    "        self.fetch = False\n",
    "        self.name = name\n",
    "        \n",
    "        # initializing the parent class is only necessary if we want to have all of the attributes Animal starts with\n",
    "        Animal.__init__(self)\n",
    "        \n",
    "        # note we no longer have a \"check_if_full\" function,\n",
    "        # because we have inherited this information.\n",
    "        \n",
    "    def train(self):\n",
    "        self.happy = True\n",
    "        self.fetch = True"
   ]
  },
  {
   "cell_type": "code",
   "execution_count": 36,
   "metadata": {},
   "outputs": [
    {
     "data": {
      "text/plain": [
       "'No'"
      ]
     },
     "execution_count": 36,
     "metadata": {},
     "output_type": "execute_result"
    }
   ],
   "source": [
    "dog_1 = Dog('Maggie')\n",
    "dog_1.full"
   ]
  },
  {
   "cell_type": "code",
   "execution_count": 37,
   "metadata": {},
   "outputs": [
    {
     "data": {
      "text/plain": [
       "False"
      ]
     },
     "execution_count": 37,
     "metadata": {},
     "output_type": "execute_result"
    }
   ],
   "source": [
    "dog_1.happy"
   ]
  },
  {
   "cell_type": "code",
   "execution_count": 38,
   "metadata": {},
   "outputs": [
    {
     "data": {
      "text/plain": [
       "False"
      ]
     },
     "execution_count": 38,
     "metadata": {},
     "output_type": "execute_result"
    }
   ],
   "source": [
    "dog_1.fetch"
   ]
  },
  {
   "cell_type": "code",
   "execution_count": 39,
   "metadata": {
    "collapsed": true
   },
   "outputs": [],
   "source": [
    "dog_1.train()"
   ]
  },
  {
   "cell_type": "code",
   "execution_count": 40,
   "metadata": {},
   "outputs": [
    {
     "data": {
      "text/plain": [
       "True"
      ]
     },
     "execution_count": 40,
     "metadata": {},
     "output_type": "execute_result"
    }
   ],
   "source": [
    "dog_1.happy"
   ]
  },
  {
   "cell_type": "code",
   "execution_count": 41,
   "metadata": {},
   "outputs": [
    {
     "data": {
      "text/plain": [
       "True"
      ]
     },
     "execution_count": 41,
     "metadata": {},
     "output_type": "execute_result"
    }
   ],
   "source": [
    "dog_1.fetch"
   ]
  },
  {
   "cell_type": "markdown",
   "metadata": {},
   "source": [
    "We can also use all of the functions (methods) of the parent class."
   ]
  },
  {
   "cell_type": "code",
   "execution_count": 42,
   "metadata": {},
   "outputs": [
    {
     "data": {
      "text/plain": [
       "True"
      ]
     },
     "execution_count": 42,
     "metadata": {},
     "output_type": "execute_result"
    }
   ],
   "source": [
    "dog_1.feed()\n",
    "dog_1.full"
   ]
  },
  {
   "cell_type": "markdown",
   "metadata": {},
   "source": [
    "To check that a class inheritance has \"worked\" and that your new class has the attributes of the class from which you have inherited, you can use also use the built-in function \"hasattr\" to check:"
   ]
  },
  {
   "cell_type": "code",
   "execution_count": 62,
   "metadata": {},
   "outputs": [
    {
     "data": {
      "text/plain": [
       "True"
      ]
     },
     "execution_count": 62,
     "metadata": {},
     "output_type": "execute_result"
    }
   ],
   "source": [
    "# to use 'hasattr', you compare an INSTANCE of an object to a STRING of the attribute in question.\n",
    "# Here we see that dog_1 has inherited the attributes of the parent class, Animal.\n",
    "hasattr(dog_1, 'happy')"
   ]
  },
  {
   "cell_type": "markdown",
   "metadata": {},
   "source": [
    "We can also look and see what functions a class has using the \"dir\" built-in function, which acts as a directors of functions."
   ]
  },
  {
   "cell_type": "code",
   "execution_count": 43,
   "metadata": {
    "collapsed": true
   },
   "outputs": [],
   "source": [
    "animal_1 = Animal()"
   ]
  },
  {
   "cell_type": "code",
   "execution_count": 44,
   "metadata": {},
   "outputs": [
    {
     "data": {
      "text/plain": [
       "['__class__',\n",
       " '__delattr__',\n",
       " '__dict__',\n",
       " '__dir__',\n",
       " '__doc__',\n",
       " '__eq__',\n",
       " '__format__',\n",
       " '__ge__',\n",
       " '__getattribute__',\n",
       " '__gt__',\n",
       " '__hash__',\n",
       " '__init__',\n",
       " '__init_subclass__',\n",
       " '__le__',\n",
       " '__lt__',\n",
       " '__module__',\n",
       " '__ne__',\n",
       " '__new__',\n",
       " '__reduce__',\n",
       " '__reduce_ex__',\n",
       " '__repr__',\n",
       " '__setattr__',\n",
       " '__sizeof__',\n",
       " '__str__',\n",
       " '__subclasshook__',\n",
       " '__weakref__',\n",
       " 'feed',\n",
       " 'full',\n",
       " 'happy',\n",
       " 'sleep']"
      ]
     },
     "execution_count": 44,
     "metadata": {},
     "output_type": "execute_result"
    }
   ],
   "source": [
    "dir(animal_1)"
   ]
  },
  {
   "cell_type": "markdown",
   "metadata": {},
   "source": [
    "Exercise:\n",
    "========\n",
    "Write your own class called \"Cat\". Give it an attribute that's unique to cats."
   ]
  },
  {
   "cell_type": "code",
   "execution_count": 45,
   "metadata": {},
   "outputs": [
    {
     "name": "stdout",
     "output_type": "stream",
     "text": [
      "Cat full? : No\n",
      "Cat full? : True\n"
     ]
    }
   ],
   "source": [
    "class Cat(Animal):\n",
    "    def __init__(self,\n",
    "                 name):\n",
    "        \n",
    "        self.name = name\n",
    "        \n",
    "        Animal.__init__(self)\n",
    "        \n",
    "    def hunt(self, \n",
    "             successful=False):\n",
    "        if successful:\n",
    "            self.full = True\n",
    "        else:\n",
    "            pass\n",
    "    \n",
    "\n",
    "cat_1 = Cat('Felix')\n",
    "print('Cat full? :', cat_1.full)\n",
    "cat_1.hunt(successful=True)\n",
    "print('Cat full? :', cat_1.full)"
   ]
  },
  {
   "cell_type": "markdown",
   "metadata": {},
   "source": [
    "**Double click to see an example solution**\n",
    "\n",
    "<div class='spoiler'>\n",
    "class Cat(Animal):\n",
    "    def __init__(self,\n",
    "                 name):\n",
    "        \n",
    "        self.name = name\n",
    "        \n",
    "        Animal.__init__(self)\n",
    "        \n",
    "    def hunt(self, \n",
    "             successful=False):\n",
    "        if successful:\n",
    "            self.full = True\n",
    "        else:\n",
    "            pass\n",
    "    \n",
    "\n",
    "cat_1 = Cat('Felix')\n",
    "print('Cat full? :', cat_1.full)\n",
    "cat_1.hunt(successful=True)\n",
    "print('Cat full? :', cat_1.full)\n",
    "\n",
    "</div>"
   ]
  }
 ],
 "metadata": {
  "kernelspec": {
   "display_name": "Python 3",
   "language": "python",
   "name": "python3"
  },
  "language_info": {
   "codemirror_mode": {
    "name": "ipython",
    "version": 3
   },
   "file_extension": ".py",
   "mimetype": "text/x-python",
   "name": "python",
   "nbconvert_exporter": "python",
   "pygments_lexer": "ipython3",
   "version": "3.6.8"
  }
 },
 "nbformat": 4,
 "nbformat_minor": 2
}
