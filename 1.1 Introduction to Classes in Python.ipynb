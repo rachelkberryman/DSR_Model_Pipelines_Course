{
 "cells": [
  {
   "cell_type": "markdown",
   "metadata": {},
   "source": [
    "# 1.0: Introduction to Classes in Python"
   ]
  },
  {
   "cell_type": "markdown",
   "metadata": {},
   "source": [
    "A Class in Python is a <b> user-defined type</b>.  "
   ]
  },
  {
   "cell_type": "markdown",
   "metadata": {},
   "source": [
    "One of the best ways to think about python classes is a <i> Factory</i> for something you want to make. <br>\n",
    "The output of the class can have different attributes, which can be changed and created within the class."
   ]
  },
  {
   "cell_type": "markdown",
   "metadata": {},
   "source": [
    "## Example: Dog \"factory\".\n",
    "We know of built-in types, such as lists, dictionaries, floats, and integers. <br>\n",
    "Classes let us make our own types when they don't exist. <br>\n",
    "**Many of the types we use daily are actually classes under the hood** <br>\n",
    "Ex: any type that is from an imported Python package, like pandas DataFrames and numpy arrays.\n",
    "\n",
    "Obviously, we know that \"Dog\" is not a built-in type in python.\n",
    "But, if a \"Dog\" is something we cant to be able to re-create, with various attributes, we can make it ourselves!"
   ]
  },
  {
   "cell_type": "code",
   "execution_count": 1,
   "metadata": {
    "collapsed": true
   },
   "outputs": [],
   "source": [
    "# by convention, class names are CapitalizedWithNoUnderscores. \n",
    "class Dog():\n",
    "    # the \"__init__\" function is where you \"initialize\" attributes of a class\n",
    "    def __init__(self):\n",
    "        self.happy = False\n",
    "        \n",
    "    def feed(self):\n",
    "        # functions can act on attributes of the class\n",
    "        # you don't have to send in attributes to the function, as they are already contained in the class.\n",
    "        self.happy = True"
   ]
  },
  {
   "cell_type": "markdown",
   "metadata": {},
   "source": [
    "**\"Instantiating\" a Class = making an \"instance\" of the self you initiatlized in the class.** <br>\n",
    "This instance will have all the attributes you initiated."
   ]
  },
  {
   "cell_type": "code",
   "execution_count": 3,
   "metadata": {},
   "outputs": [
    {
     "data": {
      "text/plain": [
       "False"
      ]
     },
     "execution_count": 3,
     "metadata": {},
     "output_type": "execute_result"
    }
   ],
   "source": [
    "Rover = Dog()\n",
    "Rover.happy"
   ]
  },
  {
   "cell_type": "code",
   "execution_count": 5,
   "metadata": {},
   "outputs": [
    {
     "data": {
      "text/plain": [
       "True"
      ]
     },
     "execution_count": 5,
     "metadata": {},
     "output_type": "execute_result"
    }
   ],
   "source": [
    "Rover.feed()\n",
    "Rover.happy"
   ]
  },
  {
   "cell_type": "markdown",
   "metadata": {},
   "source": [
    "You can also add arguments, and initialize them as attributes."
   ]
  },
  {
   "cell_type": "code",
   "execution_count": 6,
   "metadata": {
    "collapsed": true
   },
   "outputs": [],
   "source": [
    "class Dog():\n",
    "    def __init__(self,\n",
    "                 name):\n",
    "        self.happy = False\n",
    "        # initializing name argument as the attribute.\n",
    "        self.name = name\n",
    "        \n",
    "    def feed(self):\n",
    "        self.happy = True\n"
   ]
  },
  {
   "cell_type": "code",
   "execution_count": 9,
   "metadata": {},
   "outputs": [
    {
     "data": {
      "text/plain": [
       "'Rover'"
      ]
     },
     "execution_count": 9,
     "metadata": {},
     "output_type": "execute_result"
    }
   ],
   "source": [
    "dog_1 = Dog('Rover')\n",
    "dog_1.name"
   ]
  },
  {
   "cell_type": "markdown",
   "metadata": {},
   "source": [
    "You can also inherit attribtes and functions from other pre-existing classes.\n",
    "This saves time, and lets you focus on adding the additional attributes you need."
   ]
  },
  {
   "cell_type": "markdown",
   "metadata": {},
   "source": []
  },
  {
   "cell_type": "markdown",
   "metadata": {},
   "source": []
  },
  {
   "cell_type": "markdown",
   "metadata": {},
   "source": []
  },
  {
   "cell_type": "markdown",
   "metadata": {},
   "source": []
  },
  {
   "cell_type": "markdown",
   "metadata": {},
   "source": []
  },
  {
   "cell_type": "markdown",
   "metadata": {},
   "source": []
  }
 ],
 "metadata": {
  "kernelspec": {
   "display_name": "Python 3",
   "language": "python",
   "name": "python3"
  },
  "language_info": {
   "codemirror_mode": {
    "name": "ipython",
    "version": 3
   },
   "file_extension": ".py",
   "mimetype": "text/x-python",
   "name": "python",
   "nbconvert_exporter": "python",
   "pygments_lexer": "ipython3",
   "version": "3.6.3"
  }
 },
 "nbformat": 4,
 "nbformat_minor": 2
}
