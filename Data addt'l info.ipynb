{
 "cells": [
  {
   "cell_type": "markdown",
   "metadata": {},
   "source": [
    "Additional Info for the data:\n"
   ]
  },
  {
   "cell_type": "code",
   "execution_count": 1,
   "metadata": {
    "collapsed": true
   },
   "outputs": [],
   "source": [
    "map_dict = {\n",
    "    0 : 'No reason given',\n",
    "    1 : 'Certain Infectious and parasitic diseases',\n",
    "    2 : 'Neoplasms',\n",
    "    3 : 'Diseases of the blood and blood-forming organs',\n",
    "    4 : 'Endocrine, nutritional and metabolic disease',\n",
    "    5 : 'Mental and behavioral disorders',\n",
    "    6 : 'Diseases of the nervous system',\n",
    "    7 : 'Diseases of the eye and adnexa',\n",
    "    8 : 'Diseases of the ear and mastoid process',\n",
    "    9 : 'Diseases of the circulatory system',\n",
    "    10 : 'Diseases of the respiratory system',\n",
    "    11 : 'Diseases of the digestive system',\n",
    "    12 : 'Diseases of the ckin and subcutaneous tissue',\n",
    "    13 : 'Diseases of the muskuloskeletal system and connective tissue',\n",
    "    14 : 'Diseases of the genitourinary system',\n",
    "    15 : 'Pregnancy, childbirth, and the puerperium',\n",
    "    16 : 'Certain conditions originating in the prenatal period',\n",
    "    17 : 'Congenital malformations, deformations, and chromosomal abnormalities',\n",
    "    18 : 'Symptoms, signs and abnormal clinical and laboratory findings not elsewhere classified',\n",
    "    19 : 'Injury, poisoning, and certain other consequences of external cause',\n",
    "    20 : 'External causes of morbidity and mortality',\n",
    "    21 : 'Factors influencing health status and contact with health services',\n",
    "    22 : 'Medical consultation',\n",
    "    23 : 'Blood donation',\n",
    "    24 : 'Laboratory examination',\n",
    "    25 : 'Unjustified absence',\n",
    "    26 : 'Patient follow-up',\n",
    "    27 : 'Physiotherapy',\n",
    "    28 : 'Dental Consultation'\n",
    "    \n",
    "}"
   ]
  },
  {
   "cell_type": "code",
   "execution_count": 2,
   "metadata": {
    "collapsed": true
   },
   "outputs": [],
   "source": [
    "education_map_dict = {\n",
    "    1 : 'High school',\n",
    "    2 : 'Graduate',\n",
    "    3 : 'Postgraduate',\n",
    "    4 : 'Master and Doctor',\n",
    "}"
   ]
  },
  {
   "cell_type": "code",
   "execution_count": 3,
   "metadata": {
    "collapsed": true
   },
   "outputs": [],
   "source": [
    "days_map_dict = {\n",
    "    2 : 'Monday',\n",
    "    3 : 'Tuesday',\n",
    "    4 : 'Wednesday',\n",
    "    5 : 'Thursday',\n",
    "    6 : 'Friday'\n",
    "}"
   ]
  },
  {
   "cell_type": "code",
   "execution_count": null,
   "metadata": {
    "collapsed": true
   },
   "outputs": [],
   "source": []
  }
 ],
 "metadata": {
  "kernelspec": {
   "display_name": "Python 3",
   "language": "python",
   "name": "python3"
  },
  "language_info": {
   "codemirror_mode": {
    "name": "ipython",
    "version": 3
   },
   "file_extension": ".py",
   "mimetype": "text/x-python",
   "name": "python",
   "nbconvert_exporter": "python",
   "pygments_lexer": "ipython3",
   "version": "3.6.3"
  }
 },
 "nbformat": 4,
 "nbformat_minor": 2
}
