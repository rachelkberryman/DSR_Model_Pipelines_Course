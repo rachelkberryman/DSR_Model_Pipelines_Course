{
 "cells": [
  {
   "cell_type": "markdown",
   "metadata": {},
   "source": [
    "# Rachel Berryman\n",
    "## DSR Alum (Batch 12), Data Scientist: [Tempus Energy]( https://www.tempusenergy.com) \n",
    "### MSc Sustainable Development, BA Economics\n",
    "Previously: Senior Energy Analyst, Veolia North America.\n",
    "#### Contact: \n",
    "rachelkberryman@gmail.com. [LinkedIn](https://www.linkedin.com/in/rachelberryman/)"
   ]
  },
  {
   "cell_type": "markdown",
   "metadata": {},
   "source": [
    "## Main Lessons Learned in First 7 Months of Working in Industry:\n",
    "- You are a software engineer first and data scientist second\n",
    "- What you hear is true: being a data scientist really is 80-90% data preparation, and 10-20% model training.\n",
    "- If the output of your model is not in a useable format and being used often by your colleagues/the business, your work is not done!\n",
    "- Write tests!!\n",
    "\n",
    "### Pipelines help you be a better data scientist.\n",
    "- Writing better code that is more clear, concise, and easy for someone else to pick up\n",
    "- Think critically about the inputs and outputs of your model \n"
   ]
  },
  {
   "cell_type": "markdown",
   "metadata": {},
   "source": [
    "I owe a vast amount of credit to Pavel Jankiewicz, previous course teacher. Some of the examples and notebooks in this course were written by him."
   ]
  },
  {
   "cell_type": "code",
   "execution_count": null,
   "metadata": {
    "collapsed": true
   },
   "outputs": [],
   "source": []
  }
 ],
 "metadata": {
  "kernelspec": {
   "display_name": "Python 3",
   "language": "python",
   "name": "python3"
  },
  "language_info": {
   "codemirror_mode": {
    "name": "ipython",
    "version": 3
   },
   "file_extension": ".py",
   "mimetype": "text/x-python",
   "name": "python",
   "nbconvert_exporter": "python",
   "pygments_lexer": "ipython3",
   "version": "3.6.3"
  }
 },
 "nbformat": 4,
 "nbformat_minor": 2
}
