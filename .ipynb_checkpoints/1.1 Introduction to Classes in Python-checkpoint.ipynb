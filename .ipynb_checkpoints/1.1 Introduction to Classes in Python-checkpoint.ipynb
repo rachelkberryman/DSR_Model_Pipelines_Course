{
 "cells": [
  {
   "cell_type": "markdown",
   "metadata": {},
   "source": [
    "# 1.0: Introduction to Classes in Python"
   ]
  },
  {
   "cell_type": "markdown",
   "metadata": {},
   "source": [
    "A Class in Python is a <b> user-defined type</b>.  "
   ]
  },
  {
   "cell_type": "markdown",
   "metadata": {},
   "source": [
    "One of the best ways to think about python classes is a <i> Factory</i> for something you want to make. <br>\n",
    "The output of the class can have different attributes, which can be changed and created within the class."
   ]
  },
  {
   "cell_type": "markdown",
   "metadata": {},
   "source": [
    "## Example: Dog \"factory\".\n",
    "We know of built-in types, such as lists, dictionaries, floats, and integers. <br>\n",
    "Classes let us make our own types when they don't exist. <br>\n",
    "**The objects we use daily are actually classes under the hood** <br>\n",
    "Ex: any type that is from an imported Python package, like pandas DataFrames and numpy arrays.\n",
    "\n",
    "Obviously, we know that \"Dog\" is not a built-in type in python.\n",
    "But, if a \"Dog\" is something we want to be able to re-create, with various attributes, we can make it ourselves!"
   ]
  },
  {
   "cell_type": "code",
   "execution_count": 1,
   "metadata": {
    "collapsed": true
   },
   "outputs": [],
   "source": [
    "# by convention, class names are CapitalizedWithNoUnderscores. \n",
    "class Dog():\n",
    "    # the \"__init__\" function is where you \"initialize\" attributes of a class\n",
    "    def __init__(self):\n",
    "        self.happy = False\n",
    "        \n",
    "    def feed(self):\n",
    "        # functions can act on attributes of the class\n",
    "        # you don't have to send in attributes to the function, as they are already contained in the class.\n",
    "        self.happy = True"
   ]
  },
  {
   "cell_type": "markdown",
   "metadata": {},
   "source": [
    "**\"Instantiating\" a Class = making an \"instance\" of the self you initiatlized in the class.** <br>\n",
    "Because *every object is an instance of a class*, you can also call every instance an object. This is still correct. <br>\n",
    "This instance will have all the attributes you instantiated."
   ]
  },
  {
   "cell_type": "code",
   "execution_count": 3,
   "metadata": {},
   "outputs": [
    {
     "data": {
      "text/plain": [
       "False"
      ]
     },
     "execution_count": 3,
     "metadata": {},
     "output_type": "execute_result"
    }
   ],
   "source": [
    "Rover = Dog()\n",
    "Rover.happy"
   ]
  },
  {
   "cell_type": "code",
   "execution_count": 5,
   "metadata": {},
   "outputs": [
    {
     "data": {
      "text/plain": [
       "True"
      ]
     },
     "execution_count": 5,
     "metadata": {},
     "output_type": "execute_result"
    }
   ],
   "source": [
    "Rover.feed()\n",
    "Rover.happy"
   ]
  },
  {
   "cell_type": "markdown",
   "metadata": {},
   "source": [
    "You can also add arguments, and instantiate them as **attributes**. <br>\n",
    "Attributes are *values assigned to names elements of an object*. "
   ]
  },
  {
   "cell_type": "code",
   "execution_count": 1,
   "metadata": {
    "collapsed": true
   },
   "outputs": [],
   "source": [
    "class Dog():\n",
    "    \"\"\"Represents a pet, with 4 legs and fur.\n",
    "    \"\"\"\n",
    "    def __init__(self,\n",
    "                 name):\n",
    "        self.happy = False\n",
    "        \n",
    "        # initializing name argument as the attribute.\n",
    "        self.name = name\n",
    "        \n",
    "    def feed(self):\n",
    "        self.happy = True\n"
   ]
  },
  {
   "cell_type": "code",
   "execution_count": 2,
   "metadata": {},
   "outputs": [
    {
     "data": {
      "text/plain": [
       "'Rover'"
      ]
     },
     "execution_count": 2,
     "metadata": {},
     "output_type": "execute_result"
    }
   ],
   "source": [
    "dog_1 = Dog('Rover')\n",
    "dog_1.name"
   ]
  },
  {
   "cell_type": "markdown",
   "metadata": {},
   "source": [
    "Objects (instances) are **mutable**. This means that you can change them by making a new assignement to their attributes."
   ]
  },
  {
   "cell_type": "code",
   "execution_count": 32,
   "metadata": {},
   "outputs": [
    {
     "data": {
      "text/plain": [
       "'Maggie'"
      ]
     },
     "execution_count": 32,
     "metadata": {},
     "output_type": "execute_result"
    }
   ],
   "source": [
    "d.name = 'Maggie'\n",
    "# the object has stayed the same. We have simple re-assigned the value of its 'name' attribute.\n",
    "d.name"
   ]
  },
  {
   "cell_type": "markdown",
   "metadata": {},
   "source": [
    "You can also return instances (of other classes) from functions. <br>\n",
    "For example, we will define a new class called RandomName that makes, you guessed it, a random name.\n",
    "We can then return an instance of that class as the name of our Dog.\n"
   ]
  },
  {
   "cell_type": "code",
   "execution_count": 45,
   "metadata": {
    "collapsed": true
   },
   "outputs": [],
   "source": [
    "import string\n",
    "from random import *\n",
    "\n",
    "class RandomName():\n",
    "    \"\"\"Generates a name from a random combination of strings.\n",
    "    Min and max length of names can be set.\n",
    "    \"\"\"\n",
    "    def __init__(self, \n",
    "                 min_length,\n",
    "                 max_length):\n",
    "        self.min_length = min_length\n",
    "        self.max_length = max_length\n",
    "    \n",
    "        self.generate_name()\n",
    "    def generate_name(self):\n",
    "        # generating a rolodex of all possible characters and numbers\n",
    "        allchar = string.ascii_letters + string.punctuation + string.digits\n",
    "        self.name = \"\".join(choice(allchar) for x in range(randint(self.min_length, self.max_length)))\n",
    "        return self.name\n",
    "                \n",
    "        "
   ]
  },
  {
   "cell_type": "markdown",
   "metadata": {},
   "source": [
    "Now, we update the *Dog* Class to return an instance of the RandomName class as the name of our dog.<br>\n",
    "Remember from above that we were previously passing a string to use as *name* in to the class."
   ]
  },
  {
   "cell_type": "code",
   "execution_count": 46,
   "metadata": {
    "collapsed": true
   },
   "outputs": [],
   "source": [
    "class Dog():\n",
    "    \"\"\"Represents a pet, with 4 legs and fur.\n",
    "    \"\"\"\n",
    "    def __init__(self,\n",
    "                 min_length,\n",
    "                 max_length):\n",
    "        \n",
    "        self.happy = False\n",
    "        self.min_length = min_length\n",
    "        self.max_length = max_length\n",
    "        \n",
    "        # you can also call functions to initiate attributes in your __init__ statement.\n",
    "        self.name = self.generate_name()\n",
    "        \n",
    "    def feed(self):\n",
    "        self.happy = True\n",
    "    \n",
    "    \n",
    "    def generate_name(self):\n",
    "        name = RandomName(self.min_length,\n",
    "                          self.max_length)\n",
    "        return name.name"
   ]
  },
  {
   "cell_type": "code",
   "execution_count": 49,
   "metadata": {},
   "outputs": [
    {
     "data": {
      "text/plain": [
       "'\"H9@emb+4'"
      ]
     },
     "execution_count": 49,
     "metadata": {},
     "output_type": "execute_result"
    }
   ],
   "source": [
    "d = Dog(6, 10)\n",
    "d.name"
   ]
  },
  {
   "cell_type": "markdown",
   "metadata": {},
   "source": [
    "## Exercise\n",
    "1. Improve the RandomName Class so that the names it generates only contains numbers."
   ]
  },
  {
   "cell_type": "markdown",
   "metadata": {},
   "source": [
    "**Double click to see the solution**\n",
    "\n",
    "<div class='spoiler'>\n",
    "\n",
    "class RandomNumericName():\n",
    "    \"\"\"Generates a name from a random combination of strings.\n",
    "    Min and max length of names can be set.\n",
    "    \"\"\"\n",
    "    def __init__(self, \n",
    "                 min_length,\n",
    "                 max_length):\n",
    "        self.min_length = min_length\n",
    "        self.max_length = max_length\n",
    "    \n",
    "        self.generate_name()\n",
    "    def generate_name(self):\n",
    "        # generating a rolodex of all possible characters and numbers\n",
    "        numchar = string.digits\n",
    "        self.name = \"\".join(choice(numchar) for x in range(randint(self.min_length, self.max_length)))\n",
    "        return self.name\n",
    "        \n",
    "# Don't forget to update the Dog class as well so that it uses the numeric-only names!\n",
    "class NumericDog():\n",
    "    \"\"\"Represents a pet, with 4 legs and fur.\n",
    "    \"\"\"\n",
    "    def __init__(self,\n",
    "                 min_length,\n",
    "                 max_length):\n",
    "        \n",
    "        self.happy = False\n",
    "        self.min_length = min_length\n",
    "        self.max_length = max_length\n",
    "        \n",
    "        # you can also call functions to initiate attributes in your __init__ statement.\n",
    "        self.name = self.generate_numeric_name()\n",
    "        \n",
    "    def feed(self):\n",
    "        self.happy = True\n",
    "    \n",
    "    \n",
    "    def generate_numeric_name(self):\n",
    "        name = RandomNumericName(self.min_length,\n",
    "                                 self.max_length)\n",
    "        return name.name       \n",
    "        \n",
    "f = NumericDog(6, 10)\n",
    "f.name\n",
    "</div>"
   ]
  },
  {
   "cell_type": "code",
   "execution_count": 57,
   "metadata": {},
   "outputs": [
    {
     "data": {
      "text/plain": [
       "'882796'"
      ]
     },
     "execution_count": 57,
     "metadata": {},
     "output_type": "execute_result"
    }
   ],
   "source": [
    "f = NumericDog(6, 10)\n",
    "f.name"
   ]
  },
  {
   "cell_type": "markdown",
   "metadata": {},
   "source": []
  },
  {
   "cell_type": "markdown",
   "metadata": {},
   "source": [
    "You can also inherit attribtes and functions from other pre-existing classes.\n",
    "This saves time, and lets you focus on adding the additional attributes you need."
   ]
  },
  {
   "cell_type": "markdown",
   "metadata": {},
   "source": []
  },
  {
   "cell_type": "markdown",
   "metadata": {},
   "source": []
  },
  {
   "cell_type": "markdown",
   "metadata": {},
   "source": []
  },
  {
   "cell_type": "markdown",
   "metadata": {},
   "source": []
  },
  {
   "cell_type": "markdown",
   "metadata": {},
   "source": []
  },
  {
   "cell_type": "markdown",
   "metadata": {},
   "source": []
  }
 ],
 "metadata": {
  "kernelspec": {
   "display_name": "Python 3",
   "language": "python",
   "name": "python3"
  },
  "language_info": {
   "codemirror_mode": {
    "name": "ipython",
    "version": 3
   },
   "file_extension": ".py",
   "mimetype": "text/x-python",
   "name": "python",
   "nbconvert_exporter": "python",
   "pygments_lexer": "ipython3",
   "version": "3.6.3"
  }
 },
 "nbformat": 4,
 "nbformat_minor": 2
}
