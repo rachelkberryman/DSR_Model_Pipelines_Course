{
 "cells": [
  {
   "cell_type": "markdown",
   "metadata": {},
   "source": [
    "Writing Tests in Python\n",
    "============\n",
    "Why write tests?\n",
    "- Check that your code is working\n",
    "- Add new features fearlessly without breaking old ones \n",
    "- Think strategically about desired outcomes "
   ]
  },
  {
   "cell_type": "markdown",
   "metadata": {},
   "source": [
    "## What is a test?\n",
    "\n",
    "A **unit test** is a test that tests a *unit* of code, for example a function or method.\n",
    "This is different than an integration test or an end-to-end test, which both work to test a service provided by a deployed program, or an entire user experience provided by a suite of individual programs.\n",
    "\n",
    "\n",
    "Unit:\n",
    "- a small part of an application typically a function or method\n",
    "\n",
    "\n",
    "Testing:\n",
    "- run unit for some input to verify its output"
   ]
  },
  {
   "cell_type": "markdown",
   "metadata": {},
   "source": [
    "## Building Blocks of Good Test Writing\n",
    "\n",
    "\n",
    "When writing any test, it is good to ask yourself: What is the desired outcome of the test, and the function/class it is testing?\n",
    "\n",
    "### The Assert Statement:\n",
    "- Goal: verify that code outputs the expected value.\n",
    "- Typically, a strict equality is used\n",
    "    - `assert Result == Expected`\n",
    "\n",
    "When you run an assert statement in python, one of 2 things will happen:\n",
    "1. Nothing\n",
    "2. An [AssertionError](https://docs.python.org/2/reference/simple_stmts.html#assert)\n",
    "\n",
    "**WARNING!** Assert statements are only as good as the person writing them! "
   ]
  },
  {
   "cell_type": "markdown",
   "metadata": {},
   "source": [
    "### Example: Poor Assert Statement"
   ]
  },
  {
   "cell_type": "code",
   "execution_count": 7,
   "metadata": {
    "collapsed": true
   },
   "outputs": [],
   "source": [
    "import pandas as pd\n",
    "import numpy as np"
   ]
  },
  {
   "cell_type": "code",
   "execution_count": 24,
   "metadata": {},
   "outputs": [
    {
     "ename": "AssertionError",
     "evalue": "",
     "output_type": "error",
     "traceback": [
      "\u001b[0;31m---------------------------------------------------------------------------\u001b[0m",
      "\u001b[0;31mAssertionError\u001b[0m                            Traceback (most recent call last)",
      "\u001b[0;32m<ipython-input-24-cd9c5b6be155>\u001b[0m in \u001b[0;36m<module>\u001b[0;34m()\u001b[0m\n\u001b[1;32m      2\u001b[0m     \u001b[0;32mreturn\u001b[0m \u001b[0mx\u001b[0m \u001b[0;34m+\u001b[0m \u001b[0;36m1\u001b[0m\u001b[0;34m\u001b[0m\u001b[0m\n\u001b[1;32m      3\u001b[0m \u001b[0;34m\u001b[0m\u001b[0m\n\u001b[0;32m----> 4\u001b[0;31m \u001b[0;32massert\u001b[0m  \u001b[0madd_1\u001b[0m\u001b[0;34m(\u001b[0m\u001b[0;36m1\u001b[0m\u001b[0;34m)\u001b[0m \u001b[0;34m==\u001b[0m \u001b[0;36m4\u001b[0m\u001b[0;34m\u001b[0m\u001b[0m\n\u001b[0m\u001b[1;32m      5\u001b[0m \u001b[0;34m\u001b[0m\u001b[0m\n",
      "\u001b[0;31mAssertionError\u001b[0m: "
     ]
    }
   ],
   "source": [
    "def add_1(x):\n",
    "    return x + 1\n",
    "\n",
    "assert  add_1(1) == 4\n",
    "    \n"
   ]
  },
  {
   "cell_type": "markdown",
   "metadata": {},
   "source": [
    "## Improving the Assertion Error"
   ]
  },
  {
   "cell_type": "markdown",
   "metadata": {},
   "source": [
    "The AssertionError we got there isn't very helpful.\n",
    "\n",
    "\n",
    "We can improve the output we get from the assert statement."
   ]
  },
  {
   "cell_type": "code",
   "execution_count": 25,
   "metadata": {},
   "outputs": [
    {
     "ename": "AssertionError",
     "evalue": "Adder wrong! Check arithmetic in function and test.",
     "output_type": "error",
     "traceback": [
      "\u001b[0;31m---------------------------------------------------------------------------\u001b[0m",
      "\u001b[0;31mAssertionError\u001b[0m                            Traceback (most recent call last)",
      "\u001b[0;32m<ipython-input-25-5b94c021d43a>\u001b[0m in \u001b[0;36m<module>\u001b[0;34m()\u001b[0m\n\u001b[0;32m----> 1\u001b[0;31m \u001b[0;32massert\u001b[0m \u001b[0madd_1\u001b[0m\u001b[0;34m(\u001b[0m\u001b[0;36m1\u001b[0m\u001b[0;34m)\u001b[0m \u001b[0;34m==\u001b[0m \u001b[0;36m4\u001b[0m\u001b[0;34m,\u001b[0m \u001b[0;34m\"Adder wrong! Check arithmetic in function and test.\"\u001b[0m\u001b[0;34m\u001b[0m\u001b[0m\n\u001b[0m",
      "\u001b[0;31mAssertionError\u001b[0m: Adder wrong! Check arithmetic in function and test."
     ]
    }
   ],
   "source": [
    "assert add_1(1) == 4, \"Adder wrong! Check arithmetic in function and test.\""
   ]
  },
  {
   "cell_type": "code",
   "execution_count": null,
   "metadata": {
    "collapsed": true
   },
   "outputs": [],
   "source": []
  },
  {
   "cell_type": "markdown",
   "metadata": {},
   "source": [
    "Automated Tests\n",
    "===========\n",
    "You can write tests in python that run automatically.\n",
    "[pytest](https://docs.pytest.org/en/latest/) is an extremely useful python package for automated testing."
   ]
  },
  {
   "cell_type": "code",
   "execution_count": 4,
   "metadata": {
    "collapsed": true
   },
   "outputs": [],
   "source": [
    "# This allows us to run pytest in a notebook. info here : https://github.com/akaihola/ipython_pytest\n",
    "%load_ext ipython_pytest"
   ]
  },
  {
   "cell_type": "code",
   "execution_count": 9,
   "metadata": {},
   "outputs": [
    {
     "name": "stdout",
     "output_type": "stream",
     "text": [
      "============================= test session starts ==============================\n",
      "platform darwin -- Python 3.6.3, pytest-3.2.1, py-1.4.34, pluggy-0.4.0\n",
      "rootdir: /private/var/folders/v6/_yd9xjgd4jl01y5x_rf5ch780000gn/T/tmp1seoxvzb, inifile:\n",
      "collected 1 item\n",
      "\n",
      "_ipytesttmp.py .\n",
      "\n",
      "=========================== 1 passed in 0.05 seconds ===========================\n"
     ]
    }
   ],
   "source": [
    "%%pytest\n",
    "\n",
    "def test_tester():\n",
    "    assert 42 == 42"
   ]
  },
  {
   "cell_type": "markdown",
   "metadata": {},
   "source": [
    "Sources:\n",
    "- http://python.kaihola.fi/static/unit-testing-scipy-applications.pdf\n"
   ]
  }
 ],
 "metadata": {
  "kernelspec": {
   "display_name": "Python 3",
   "language": "python",
   "name": "python3"
  },
  "language_info": {
   "codemirror_mode": {
    "name": "ipython",
    "version": 3
   },
   "file_extension": ".py",
   "mimetype": "text/x-python",
   "name": "python",
   "nbconvert_exporter": "python",
   "pygments_lexer": "ipython3",
   "version": "3.6.3"
  }
 },
 "nbformat": 4,
 "nbformat_minor": 2
}
