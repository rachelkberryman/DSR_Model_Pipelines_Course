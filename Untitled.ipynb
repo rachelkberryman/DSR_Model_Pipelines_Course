{
 "cells": [
  {
   "cell_type": "code",
   "execution_count": 1,
   "metadata": {
    "collapsed": true
   },
   "outputs": [],
   "source": [
    "import pandas as pd"
   ]
  },
  {
   "cell_type": "code",
   "execution_count": 19,
   "metadata": {
    "collapsed": true
   },
   "outputs": [],
   "source": [
    "holdout = pd.read_csv('data/holdout_test_data.csv', index_col=0, low_memory=False)"
   ]
  },
  {
   "cell_type": "code",
   "execution_count": 20,
   "metadata": {},
   "outputs": [
    {
     "data": {
      "text/plain": [
       "Index(['index', 'BATHRM', 'HF_BATHRM', 'HEAT', 'AC', 'NUM_UNITS', 'ROOMS',\n",
       "       'BEDRM', 'AYB', 'YR_RMDL', 'EYB', 'STORIES', 'SALEDATE', 'PRICE',\n",
       "       'QUALIFIED', 'SALE_NUM', 'GBA', 'BLDG_NUM', 'STYLE', 'STRUCT', 'GRADE',\n",
       "       'CNDTN', 'EXTWALL', 'ROOF', 'INTWALL', 'KITCHENS', 'FIREPLACES',\n",
       "       'USECODE', 'LANDAREA', 'GIS_LAST_MOD_DTTM', 'SOURCE', 'CMPLX_NUM',\n",
       "       'LIVING_GBA', 'FULLADDRESS', 'CITY', 'STATE', 'ZIPCODE', 'NATIONALGRID',\n",
       "       'LATITUDE', 'LONGITUDE', 'ASSESSMENT_NBHD', 'ASSESSMENT_SUBNBHD',\n",
       "       'CENSUS_TRACT', 'CENSUS_BLOCK', 'WARD', 'SQUARE', 'X', 'Y', 'QUADRANT'],\n",
       "      dtype='object')"
      ]
     },
     "execution_count": 20,
     "metadata": {},
     "output_type": "execute_result"
    }
   ],
   "source": [
    "holdout.columns"
   ]
  },
  {
   "cell_type": "code",
   "execution_count": 31,
   "metadata": {},
   "outputs": [],
   "source": [
    "null_mask = holdout['PRICE'].isnull()\n",
    "null_indexes = holdout.index[null_mask]\n",
    "not_null = holdout.loc[~holdout.index.isin(null_indexes)]"
   ]
  },
  {
   "cell_type": "code",
   "execution_count": 33,
   "metadata": {
    "collapsed": true
   },
   "outputs": [],
   "source": [
    "train = pd.read_csv('data/DC_properties_training.csv', index_col=0, low_memory=False)"
   ]
  },
  {
   "cell_type": "code",
   "execution_count": 35,
   "metadata": {},
   "outputs": [],
   "source": [
    "len_with_nulls = train.shape[0]"
   ]
  },
  {
   "cell_type": "code",
   "execution_count": 36,
   "metadata": {
    "collapsed": true
   },
   "outputs": [],
   "source": [
    "null_mask = train['PRICE'].isnull()\n",
    "null_indexes = train.index[null_mask]\n",
    "not_null_train = train.loc[~train.index.isin(null_indexes)]"
   ]
  },
  {
   "cell_type": "code",
   "execution_count": 37,
   "metadata": {
    "collapsed": true
   },
   "outputs": [],
   "source": [
    "len_no_nulls = not_null_train.shape[0]"
   ]
  },
  {
   "cell_type": "code",
   "execution_count": 38,
   "metadata": {},
   "outputs": [
    {
     "data": {
      "text/plain": [
       "0.6179591888579105"
      ]
     },
     "execution_count": 38,
     "metadata": {},
     "output_type": "execute_result"
    }
   ],
   "source": [
    "len_no_nulls/len_with_nulls"
   ]
  },
  {
   "cell_type": "code",
   "execution_count": 39,
   "metadata": {},
   "outputs": [
    {
     "data": {
      "text/plain": [
       "97302"
      ]
     },
     "execution_count": 39,
     "metadata": {},
     "output_type": "execute_result"
    }
   ],
   "source": [
    "len_no_nulls"
   ]
  },
  {
   "cell_type": "code",
   "execution_count": 42,
   "metadata": {},
   "outputs": [
    {
     "data": {
      "text/plain": [
       "0.9393434872870035"
      ]
     },
     "execution_count": 42,
     "metadata": {},
     "output_type": "execute_result"
    }
   ],
   "source": [
    "not_null.shape[0] / len_no_nulls * 100"
   ]
  },
  {
   "cell_type": "code",
   "execution_count": 32,
   "metadata": {},
   "outputs": [
    {
     "data": {
      "text/plain": [
       "157458     159000.0\n",
       "157460     489590.0\n",
       "157461     495000.0\n",
       "157462     363000.0\n",
       "157463     487000.0\n",
       "157464     369900.0\n",
       "157465     295000.0\n",
       "157468     749000.0\n",
       "157471     673000.0\n",
       "157473     410000.0\n",
       "157474     270000.0\n",
       "157475    1295000.0\n",
       "157476     669900.0\n",
       "157477     225000.0\n",
       "157478     165500.0\n",
       "157480    1170000.0\n",
       "157481     140500.0\n",
       "157482     265000.0\n",
       "157483     335000.0\n",
       "157485     560000.0\n",
       "157486     265000.0\n",
       "157487     160000.0\n",
       "157488     458400.0\n",
       "157491     610000.0\n",
       "157492     501000.0\n",
       "157494     230000.0\n",
       "157496     605000.0\n",
       "157498     187810.0\n",
       "157499     715000.0\n",
       "157500     725000.0\n",
       "            ...    \n",
       "158904      59500.0\n",
       "158905     615000.0\n",
       "158907     640000.0\n",
       "158908     492000.0\n",
       "158910     800000.0\n",
       "158912     689000.0\n",
       "158913     123900.0\n",
       "158915      84000.0\n",
       "158916     700000.0\n",
       "158920     115000.0\n",
       "158923     728700.0\n",
       "158924     769603.0\n",
       "158925     525000.0\n",
       "158926     180000.0\n",
       "158928     121000.0\n",
       "158931      67501.0\n",
       "158932     270000.0\n",
       "158933     700000.0\n",
       "158934     251000.0\n",
       "158937    1552400.0\n",
       "158941     113000.0\n",
       "158942     471000.0\n",
       "158945    4050000.0\n",
       "158947     605927.0\n",
       "158949     660000.0\n",
       "158951     146500.0\n",
       "158952     320000.0\n",
       "158953    1380000.0\n",
       "158954     125000.0\n",
       "158956     900000.0\n",
       "Name: PRICE, Length: 914, dtype: float64"
      ]
     },
     "execution_count": 32,
     "metadata": {},
     "output_type": "execute_result"
    }
   ],
   "source": [
    "not_null['PRICE']"
   ]
  },
  {
   "cell_type": "code",
   "execution_count": null,
   "metadata": {
    "collapsed": true
   },
   "outputs": [],
   "source": []
  }
 ],
 "metadata": {
  "kernelspec": {
   "display_name": "Python 3",
   "language": "python",
   "name": "python3"
  },
  "language_info": {
   "codemirror_mode": {
    "name": "ipython",
    "version": 3
   },
   "file_extension": ".py",
   "mimetype": "text/x-python",
   "name": "python",
   "nbconvert_exporter": "python",
   "pygments_lexer": "ipython3",
   "version": "3.6.3"
  }
 },
 "nbformat": 4,
 "nbformat_minor": 2
}
